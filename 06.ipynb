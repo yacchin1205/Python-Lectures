{
 "cells": [
  {
   "cell_type": "markdown",
   "metadata": {
    "lc_cell_meme": {
     "current": "04bcd0c0-52b7-11e8-b68d-02420aff0006",
     "history": [
      {
       "current": "04bcd0c0-52b7-11e8-b68d-02420aff0006",
       "next": "04bcd188-52b7-11e8-b68d-02420aff0006",
       "previous": null
      }
     ],
     "next": "a42a93de-52cd-11e8-b68d-02420aff0006",
     "previous": null
    }
   },
   "source": [
    "この講義のJupyter Notebookは以下のリポジトリよりダウンロードできます: https://github.com/yacchin1205/Python-Lectures"
   ]
  },
  {
   "cell_type": "markdown",
   "metadata": {
    "lc_cell_meme": {
     "current": "a42a93de-52cd-11e8-b68d-02420aff0006",
     "history": [
      {
       "current": "a42a93de-52cd-11e8-b68d-02420aff0006",
       "next": "a42a9474-52cd-11e8-b68d-02420aff0006",
       "previous": "a42a932a-52cd-11e8-b68d-02420aff0006"
      }
     ],
     "next": "a42a9474-52cd-11e8-b68d-02420aff0006",
     "previous": "04bcd0c0-52b7-11e8-b68d-02420aff0006"
    }
   },
   "source": [
    "# 関数"
   ]
  },
  {
   "cell_type": "markdown",
   "metadata": {
    "lc_cell_meme": {
     "current": "a42a9474-52cd-11e8-b68d-02420aff0006",
     "next": "a42a950a-52cd-11e8-b68d-02420aff0006",
     "previous": "a42a93de-52cd-11e8-b68d-02420aff0006"
    }
   },
   "source": [
    "Most of the times, In a algorithm the statements keep repeating and it will be a tedious job to execute the same statements again and again and will consume a lot of memory and is not efficient. Enter Functions."
   ]
  },
  {
   "cell_type": "markdown",
   "metadata": {
    "lc_cell_meme": {
     "current": "a42a950a-52cd-11e8-b68d-02420aff0006",
     "next": "a42a95a0-52cd-11e8-b68d-02420aff0006",
     "previous": "a42a9474-52cd-11e8-b68d-02420aff0006"
    }
   },
   "source": [
    "This is the basic syntax of a function"
   ]
  },
  {
   "cell_type": "markdown",
   "metadata": {
    "lc_cell_meme": {
     "current": "a42a95a0-52cd-11e8-b68d-02420aff0006",
     "next": "a42a962c-52cd-11e8-b68d-02420aff0006",
     "previous": "a42a950a-52cd-11e8-b68d-02420aff0006"
    }
   },
   "source": [
    "def funcname(arg1, arg2,... argN):\n",
    "    \n",
    "    ''' Document String'''\n",
    "\n",
    "    statements\n",
    "\n",
    "\n",
    "    return <value>"
   ]
  },
  {
   "cell_type": "markdown",
   "metadata": {
    "lc_cell_meme": {
     "current": "a42a962c-52cd-11e8-b68d-02420aff0006",
     "next": "a42a96b8-52cd-11e8-b68d-02420aff0006",
     "previous": "a42a95a0-52cd-11e8-b68d-02420aff0006"
    }
   },
   "source": [
    "Read the above syntax as, A function by name \"funcname\" is defined, which accepts arguements \"arg1,arg2,....argN\". The function is documented and it is '''Document String'''. The function after executing the statements returns a \"value\"."
   ]
  },
  {
   "cell_type": "code",
   "execution_count": 1,
   "metadata": {
    "lc_cell_meme": {
     "current": "a42a96b8-52cd-11e8-b68d-02420aff0006",
     "next": "a42a983e-52cd-11e8-b68d-02420aff0006",
     "previous": "a42a962c-52cd-11e8-b68d-02420aff0006"
    }
   },
   "outputs": [
    {
     "name": "stdout",
     "output_type": "stream",
     "text": [
      "Hey Rajath!\n",
      "Rajath, How do you do?\n"
     ]
    }
   ],
   "source": [
    "print(\"Hey Rajath!\")\n",
    "print(\"Rajath, How do you do?\")"
   ]
  },
  {
   "cell_type": "markdown",
   "metadata": {
    "lc_cell_meme": {
     "current": "a42a983e-52cd-11e8-b68d-02420aff0006",
     "next": "a42a98f2-52cd-11e8-b68d-02420aff0006",
     "previous": "a42a96b8-52cd-11e8-b68d-02420aff0006"
    }
   },
   "source": [
    "Instead of writing the above two statements every single time it can be replaced by defining a function which would do the job in just one line. \n",
    "\n",
    "Defining a function firstfunc()."
   ]
  },
  {
   "cell_type": "code",
   "execution_count": 2,
   "metadata": {
    "lc_cell_meme": {
     "current": "a42a98f2-52cd-11e8-b68d-02420aff0006",
     "next": "a42a9a00-52cd-11e8-b68d-02420aff0006",
     "previous": "a42a983e-52cd-11e8-b68d-02420aff0006"
    }
   },
   "outputs": [],
   "source": [
    "def firstfunc():\n",
    "    print(\"Hey Rajath!\")\n",
    "    print(\"Rajath, How do you do?\")"
   ]
  },
  {
   "cell_type": "code",
   "execution_count": 3,
   "metadata": {
    "lc_cell_meme": {
     "current": "a42a9a00-52cd-11e8-b68d-02420aff0006",
     "next": "a42a9a96-52cd-11e8-b68d-02420aff0006",
     "previous": "a42a98f2-52cd-11e8-b68d-02420aff0006"
    }
   },
   "outputs": [
    {
     "name": "stdout",
     "output_type": "stream",
     "text": [
      "Hey Rajath!\n",
      "Rajath, How do you do?\n"
     ]
    }
   ],
   "source": [
    "firstfunc()"
   ]
  },
  {
   "cell_type": "markdown",
   "metadata": {
    "lc_cell_meme": {
     "current": "a42a9a96-52cd-11e8-b68d-02420aff0006",
     "next": "a42a9b2c-52cd-11e8-b68d-02420aff0006",
     "previous": "a42a9a00-52cd-11e8-b68d-02420aff0006"
    }
   },
   "source": [
    "**firstfunc()** every time just prints the message to a single person. We can make our function **firstfunc()** to accept arguements which will store the name and then prints respective to that accepted name. To do so, add a argument within the function as shown."
   ]
  },
  {
   "cell_type": "code",
   "execution_count": 4,
   "metadata": {
    "lc_cell_meme": {
     "current": "a42a9b2c-52cd-11e8-b68d-02420aff0006",
     "next": "a42a9bb8-52cd-11e8-b68d-02420aff0006",
     "previous": "a42a9a96-52cd-11e8-b68d-02420aff0006"
    }
   },
   "outputs": [],
   "source": [
    "def firstfunc(username):\n",
    "    print(\"Hey\", username + '!')\n",
    "    print(username + ',' ,\"How do you do?\")"
   ]
  },
  {
   "cell_type": "code",
   "execution_count": 5,
   "metadata": {
    "lc_cell_meme": {
     "current": "a42a9bb8-52cd-11e8-b68d-02420aff0006",
     "next": "a42a9c44-52cd-11e8-b68d-02420aff0006",
     "previous": "a42a9b2c-52cd-11e8-b68d-02420aff0006"
    }
   },
   "outputs": [
    {
     "name": "stdout",
     "output_type": "stream",
     "text": [
      "Please enter your name : やざわ\n"
     ]
    }
   ],
   "source": [
    "name1 = input('Please enter your name : ')"
   ]
  },
  {
   "cell_type": "markdown",
   "metadata": {
    "lc_cell_meme": {
     "current": "a42a9c44-52cd-11e8-b68d-02420aff0006",
     "next": "a42a9cc6-52cd-11e8-b68d-02420aff0006",
     "previous": "a42a9bb8-52cd-11e8-b68d-02420aff0006"
    }
   },
   "source": [
    "The name \"Guido\" is actually stored in name1. So we pass this variable to the function **firstfunc()** as the variable username because that is the variable that is defined for this function. i.e name1 is passed as username."
   ]
  },
  {
   "cell_type": "code",
   "execution_count": 6,
   "metadata": {
    "lc_cell_meme": {
     "current": "a42a9cc6-52cd-11e8-b68d-02420aff0006",
     "next": "a42a9d52-52cd-11e8-b68d-02420aff0006",
     "previous": "a42a9c44-52cd-11e8-b68d-02420aff0006"
    }
   },
   "outputs": [
    {
     "name": "stdout",
     "output_type": "stream",
     "text": [
      "Hey やざわ!\n",
      "やざわ, How do you do?\n"
     ]
    }
   ],
   "source": [
    "firstfunc(name1)"
   ]
  },
  {
   "cell_type": "markdown",
   "metadata": {
    "lc_cell_meme": {
     "current": "a42a9d52-52cd-11e8-b68d-02420aff0006",
     "next": "a42a9dde-52cd-11e8-b68d-02420aff0006",
     "previous": "a42a9cc6-52cd-11e8-b68d-02420aff0006"
    }
   },
   "source": [
    "Let us simplify this even further by defining another function **secondfunc()** which accepts the name and stores it inside a variable and then calls the **firstfunc()** from inside the function itself."
   ]
  },
  {
   "cell_type": "code",
   "execution_count": 7,
   "metadata": {
    "lc_cell_meme": {
     "current": "a42a9dde-52cd-11e8-b68d-02420aff0006",
     "next": "a42a9e6a-52cd-11e8-b68d-02420aff0006",
     "previous": "a42a9d52-52cd-11e8-b68d-02420aff0006"
    }
   },
   "outputs": [],
   "source": [
    "def firstfunc(username):\n",
    "    print(\"Hey\", username + '!')\n",
    "    print(username + ',' ,\"How do you do?\")\n",
    "def secondfunc():\n",
    "    name = input(\"Please enter your name : \")\n",
    "    firstfunc(name)"
   ]
  },
  {
   "cell_type": "code",
   "execution_count": 8,
   "metadata": {
    "lc_cell_meme": {
     "current": "a42a9e6a-52cd-11e8-b68d-02420aff0006",
     "next": "a42a9ef6-52cd-11e8-b68d-02420aff0006",
     "previous": "a42a9dde-52cd-11e8-b68d-02420aff0006"
    }
   },
   "outputs": [
    {
     "name": "stdout",
     "output_type": "stream",
     "text": [
      "Please enter your name : 谷沢\n",
      "Hey 谷沢!\n",
      "谷沢, How do you do?\n"
     ]
    }
   ],
   "source": [
    "secondfunc()"
   ]
  },
  {
   "cell_type": "markdown",
   "metadata": {
    "lc_cell_meme": {
     "current": "a42a9ef6-52cd-11e8-b68d-02420aff0006",
     "next": "a42a9f82-52cd-11e8-b68d-02420aff0006",
     "previous": "a42a9e6a-52cd-11e8-b68d-02420aff0006"
    }
   },
   "source": [
    "## Return 文"
   ]
  },
  {
   "cell_type": "markdown",
   "metadata": {
    "lc_cell_meme": {
     "current": "a42a9f82-52cd-11e8-b68d-02420aff0006",
     "next": "a42aa00e-52cd-11e8-b68d-02420aff0006",
     "previous": "a42a9ef6-52cd-11e8-b68d-02420aff0006"
    }
   },
   "source": [
    "When the function results in some value and that value has to be stored in a variable or needs to be sent back or returned for further operation to the main algorithm, return statement is used."
   ]
  },
  {
   "cell_type": "code",
   "execution_count": 9,
   "metadata": {
    "lc_cell_meme": {
     "current": "a42aa00e-52cd-11e8-b68d-02420aff0006",
     "next": "a42aa09a-52cd-11e8-b68d-02420aff0006",
     "previous": "a42a9f82-52cd-11e8-b68d-02420aff0006"
    }
   },
   "outputs": [],
   "source": [
    "def times(x,y):\n",
    "    z = x*y\n",
    "    return z"
   ]
  },
  {
   "cell_type": "markdown",
   "metadata": {
    "lc_cell_meme": {
     "current": "a42aa09a-52cd-11e8-b68d-02420aff0006",
     "next": "a42aa126-52cd-11e8-b68d-02420aff0006",
     "previous": "a42aa00e-52cd-11e8-b68d-02420aff0006"
    }
   },
   "source": [
    "The above defined **times( )** function accepts two arguements and return the variable z which contains the result of the product of the two arguements"
   ]
  },
  {
   "cell_type": "code",
   "execution_count": 10,
   "metadata": {
    "lc_cell_meme": {
     "current": "a42aa126-52cd-11e8-b68d-02420aff0006",
     "next": "a42aa1a8-52cd-11e8-b68d-02420aff0006",
     "previous": "a42aa09a-52cd-11e8-b68d-02420aff0006"
    }
   },
   "outputs": [
    {
     "name": "stdout",
     "output_type": "stream",
     "text": [
      "20\n"
     ]
    }
   ],
   "source": [
    "c = times(4,5)\n",
    "print(c)"
   ]
  },
  {
   "cell_type": "markdown",
   "metadata": {
    "lc_cell_meme": {
     "current": "a42aa1a8-52cd-11e8-b68d-02420aff0006",
     "next": "a42aa234-52cd-11e8-b68d-02420aff0006",
     "previous": "a42aa126-52cd-11e8-b68d-02420aff0006"
    }
   },
   "source": [
    "The z value is stored in variable c and can be used for further operations."
   ]
  },
  {
   "cell_type": "markdown",
   "metadata": {
    "lc_cell_meme": {
     "current": "a42aa234-52cd-11e8-b68d-02420aff0006",
     "next": "a42aa2ca-52cd-11e8-b68d-02420aff0006",
     "previous": "a42aa1a8-52cd-11e8-b68d-02420aff0006"
    }
   },
   "source": [
    "Instead of declaring another variable the entire statement itself can be used in the return statement as shown."
   ]
  },
  {
   "cell_type": "code",
   "execution_count": 11,
   "metadata": {
    "lc_cell_meme": {
     "current": "a42aa2ca-52cd-11e8-b68d-02420aff0006",
     "next": "a42aa356-52cd-11e8-b68d-02420aff0006",
     "previous": "a42aa234-52cd-11e8-b68d-02420aff0006"
    }
   },
   "outputs": [],
   "source": [
    "def times(x,y):\n",
    "    '''This multiplies the two input arguments'''\n",
    "    return x*y"
   ]
  },
  {
   "cell_type": "code",
   "execution_count": 12,
   "metadata": {
    "lc_cell_meme": {
     "current": "a42aa356-52cd-11e8-b68d-02420aff0006",
     "next": "a42aa3d8-52cd-11e8-b68d-02420aff0006",
     "previous": "a42aa2ca-52cd-11e8-b68d-02420aff0006"
    }
   },
   "outputs": [
    {
     "name": "stdout",
     "output_type": "stream",
     "text": [
      "20\n"
     ]
    }
   ],
   "source": [
    "c = times(4,5)\n",
    "print(c)"
   ]
  },
  {
   "cell_type": "markdown",
   "metadata": {
    "lc_cell_meme": {
     "current": "a42aa3d8-52cd-11e8-b68d-02420aff0006",
     "next": "a42aa464-52cd-11e8-b68d-02420aff0006",
     "previous": "a42aa356-52cd-11e8-b68d-02420aff0006"
    }
   },
   "source": [
    "Since the **times( )** is now defined, we can document it as shown above. This document is returned whenever **times( )** function is called under **help( )** function."
   ]
  },
  {
   "cell_type": "code",
   "execution_count": 13,
   "metadata": {
    "lc_cell_meme": {
     "current": "a42aa464-52cd-11e8-b68d-02420aff0006",
     "next": "a42aa4f0-52cd-11e8-b68d-02420aff0006",
     "previous": "a42aa3d8-52cd-11e8-b68d-02420aff0006"
    }
   },
   "outputs": [
    {
     "name": "stdout",
     "output_type": "stream",
     "text": [
      "Help on function times in module __main__:\n",
      "\n",
      "times(x, y)\n",
      "    This multiplies the two input arguments\n",
      "\n"
     ]
    }
   ],
   "source": [
    "help(times)"
   ]
  },
  {
   "cell_type": "markdown",
   "metadata": {
    "lc_cell_meme": {
     "current": "a42aa4f0-52cd-11e8-b68d-02420aff0006",
     "next": "a42aa57c-52cd-11e8-b68d-02420aff0006",
     "previous": "a42aa464-52cd-11e8-b68d-02420aff0006"
    }
   },
   "source": [
    "Multiple variable can also be returned, But keep in mind the order."
   ]
  },
  {
   "cell_type": "code",
   "execution_count": 14,
   "metadata": {
    "lc_cell_meme": {
     "current": "a42aa57c-52cd-11e8-b68d-02420aff0006",
     "next": "a42aa608-52cd-11e8-b68d-02420aff0006",
     "previous": "a42aa4f0-52cd-11e8-b68d-02420aff0006"
    }
   },
   "outputs": [],
   "source": [
    "eglist = [10,50,30,12,6,8,100]"
   ]
  },
  {
   "cell_type": "code",
   "execution_count": 15,
   "metadata": {
    "lc_cell_meme": {
     "current": "a42aa608-52cd-11e8-b68d-02420aff0006",
     "next": "a42aa694-52cd-11e8-b68d-02420aff0006",
     "previous": "a42aa57c-52cd-11e8-b68d-02420aff0006"
    }
   },
   "outputs": [],
   "source": [
    "def egfunc(eglist):\n",
    "    highest = max(eglist)\n",
    "    lowest = min(eglist)\n",
    "    first = eglist[0]\n",
    "    last = eglist[-1]\n",
    "    return highest,lowest,first,last"
   ]
  },
  {
   "cell_type": "markdown",
   "metadata": {
    "lc_cell_meme": {
     "current": "a42aa694-52cd-11e8-b68d-02420aff0006",
     "next": "a42aa72a-52cd-11e8-b68d-02420aff0006",
     "previous": "a42aa608-52cd-11e8-b68d-02420aff0006"
    }
   },
   "source": [
    "If the function is just called without any variable for it to be assigned to, the result is returned inside a tuple. But if the variables are mentioned then the result is assigned to the variable in a particular order which is declared in the return statement."
   ]
  },
  {
   "cell_type": "code",
   "execution_count": 16,
   "metadata": {
    "lc_cell_meme": {
     "current": "a42aa72a-52cd-11e8-b68d-02420aff0006",
     "next": "a42aa7b6-52cd-11e8-b68d-02420aff0006",
     "previous": "a42aa694-52cd-11e8-b68d-02420aff0006"
    }
   },
   "outputs": [
    {
     "data": {
      "text/plain": [
       "(100, 6, 10, 100)"
      ]
     },
     "execution_count": 16,
     "metadata": {},
     "output_type": "execute_result"
    }
   ],
   "source": [
    "egfunc(eglist)"
   ]
  },
  {
   "cell_type": "code",
   "execution_count": 17,
   "metadata": {
    "lc_cell_meme": {
     "current": "a42aa7b6-52cd-11e8-b68d-02420aff0006",
     "next": "a42aa842-52cd-11e8-b68d-02420aff0006",
     "previous": "a42aa72a-52cd-11e8-b68d-02420aff0006"
    }
   },
   "outputs": [
    {
     "name": "stdout",
     "output_type": "stream",
     "text": [
      " a = 100 \n",
      " b = 6 \n",
      " c = 10 \n",
      " d = 100\n"
     ]
    }
   ],
   "source": [
    "a,b,c,d = egfunc(eglist)\n",
    "print(' a =',a,'\\n b =',b,'\\n c =',c,'\\n d =',d)"
   ]
  },
  {
   "cell_type": "markdown",
   "metadata": {
    "lc_cell_meme": {
     "current": "a42aa842-52cd-11e8-b68d-02420aff0006",
     "next": "a42aa8ce-52cd-11e8-b68d-02420aff0006",
     "previous": "a42aa7b6-52cd-11e8-b68d-02420aff0006"
    }
   },
   "source": [
    "## デフォルト引数"
   ]
  },
  {
   "cell_type": "markdown",
   "metadata": {
    "lc_cell_meme": {
     "current": "a42aa8ce-52cd-11e8-b68d-02420aff0006",
     "next": "a42aa95a-52cd-11e8-b68d-02420aff0006",
     "previous": "a42aa842-52cd-11e8-b68d-02420aff0006"
    }
   },
   "source": [
    "When an argument of a function is common in majority of the cases or it is \"implicit\" this concept is used."
   ]
  },
  {
   "cell_type": "code",
   "execution_count": 18,
   "metadata": {
    "lc_cell_meme": {
     "current": "a42aa95a-52cd-11e8-b68d-02420aff0006",
     "next": "a42aa9e6-52cd-11e8-b68d-02420aff0006",
     "previous": "a42aa8ce-52cd-11e8-b68d-02420aff0006"
    }
   },
   "outputs": [],
   "source": [
    "def implicitadd(x,y=3):\n",
    "    return x+y"
   ]
  },
  {
   "cell_type": "markdown",
   "metadata": {
    "lc_cell_meme": {
     "current": "a42aa9e6-52cd-11e8-b68d-02420aff0006",
     "next": "a42aaa72-52cd-11e8-b68d-02420aff0006",
     "previous": "a42aa95a-52cd-11e8-b68d-02420aff0006"
    }
   },
   "source": [
    "**implicitadd( )** is a function accepts two arguments but most of the times the first argument needs to be added just by 3. Hence the second argument is assigned the value 3. Here the second argument is implicit."
   ]
  },
  {
   "cell_type": "markdown",
   "metadata": {
    "lc_cell_meme": {
     "current": "a42aaa72-52cd-11e8-b68d-02420aff0006",
     "next": "a42aaafe-52cd-11e8-b68d-02420aff0006",
     "previous": "a42aa9e6-52cd-11e8-b68d-02420aff0006"
    }
   },
   "source": [
    "Now if the second argument is not defined when calling the **implicitadd( )** function then it considered as 3."
   ]
  },
  {
   "cell_type": "code",
   "execution_count": 19,
   "metadata": {
    "lc_cell_meme": {
     "current": "a42aaafe-52cd-11e8-b68d-02420aff0006",
     "next": "a42aab94-52cd-11e8-b68d-02420aff0006",
     "previous": "a42aaa72-52cd-11e8-b68d-02420aff0006"
    }
   },
   "outputs": [
    {
     "data": {
      "text/plain": [
       "7"
      ]
     },
     "execution_count": 19,
     "metadata": {},
     "output_type": "execute_result"
    }
   ],
   "source": [
    "implicitadd(4)"
   ]
  },
  {
   "cell_type": "markdown",
   "metadata": {
    "lc_cell_meme": {
     "current": "a42aab94-52cd-11e8-b68d-02420aff0006",
     "next": "a42aac20-52cd-11e8-b68d-02420aff0006",
     "previous": "a42aaafe-52cd-11e8-b68d-02420aff0006"
    }
   },
   "source": [
    "But if the second argument is specified then this value overrides the implicit value assigned to the argument "
   ]
  },
  {
   "cell_type": "code",
   "execution_count": 20,
   "metadata": {
    "lc_cell_meme": {
     "current": "a42aac20-52cd-11e8-b68d-02420aff0006",
     "next": "a42aacac-52cd-11e8-b68d-02420aff0006",
     "previous": "a42aab94-52cd-11e8-b68d-02420aff0006"
    }
   },
   "outputs": [
    {
     "data": {
      "text/plain": [
       "8"
      ]
     },
     "execution_count": 20,
     "metadata": {},
     "output_type": "execute_result"
    }
   ],
   "source": [
    "implicitadd(4,4)"
   ]
  },
  {
   "cell_type": "markdown",
   "metadata": {
    "lc_cell_meme": {
     "current": "a42aacac-52cd-11e8-b68d-02420aff0006",
     "next": "a42aad38-52cd-11e8-b68d-02420aff0006",
     "previous": "a42aac20-52cd-11e8-b68d-02420aff0006"
    }
   },
   "source": [
    "## Any number of arguments"
   ]
  },
  {
   "cell_type": "markdown",
   "metadata": {
    "lc_cell_meme": {
     "current": "a42aad38-52cd-11e8-b68d-02420aff0006",
     "next": "a42aadc4-52cd-11e8-b68d-02420aff0006",
     "previous": "a42aacac-52cd-11e8-b68d-02420aff0006"
    }
   },
   "source": [
    "If the number of arguments that is to be accepted by a function is not known then a asterisk symbol is used before the argument."
   ]
  },
  {
   "cell_type": "code",
   "execution_count": 21,
   "metadata": {
    "lc_cell_meme": {
     "current": "a42aadc4-52cd-11e8-b68d-02420aff0006",
     "next": "a42aae50-52cd-11e8-b68d-02420aff0006",
     "previous": "a42aad38-52cd-11e8-b68d-02420aff0006"
    }
   },
   "outputs": [],
   "source": [
    "def add_n(*args):\n",
    "    res = 0\n",
    "    reslist = []\n",
    "    for i in args:\n",
    "        reslist.append(i)\n",
    "    print(reslist)\n",
    "    return sum(reslist)"
   ]
  },
  {
   "cell_type": "markdown",
   "metadata": {
    "lc_cell_meme": {
     "current": "a42aae50-52cd-11e8-b68d-02420aff0006",
     "next": "a42aaedc-52cd-11e8-b68d-02420aff0006",
     "previous": "a42aadc4-52cd-11e8-b68d-02420aff0006"
    }
   },
   "source": [
    "The above function accepts any number of arguments, defines a list and appends all the arguments into that list and return the sum of all the arguments."
   ]
  },
  {
   "cell_type": "code",
   "execution_count": 22,
   "metadata": {
    "lc_cell_meme": {
     "current": "a42aaedc-52cd-11e8-b68d-02420aff0006",
     "next": "a42aaf68-52cd-11e8-b68d-02420aff0006",
     "previous": "a42aae50-52cd-11e8-b68d-02420aff0006"
    }
   },
   "outputs": [
    {
     "name": "stdout",
     "output_type": "stream",
     "text": [
      "[1, 2, 3, 4, 5]\n"
     ]
    },
    {
     "data": {
      "text/plain": [
       "15"
      ]
     },
     "execution_count": 22,
     "metadata": {},
     "output_type": "execute_result"
    }
   ],
   "source": [
    "add_n(1,2,3,4,5)"
   ]
  },
  {
   "cell_type": "code",
   "execution_count": 23,
   "metadata": {
    "lc_cell_meme": {
     "current": "a42aaf68-52cd-11e8-b68d-02420aff0006",
     "next": "a42aaff4-52cd-11e8-b68d-02420aff0006",
     "previous": "a42aaedc-52cd-11e8-b68d-02420aff0006"
    }
   },
   "outputs": [
    {
     "name": "stdout",
     "output_type": "stream",
     "text": [
      "[1, 2, 3]\n"
     ]
    },
    {
     "data": {
      "text/plain": [
       "6"
      ]
     },
     "execution_count": 23,
     "metadata": {},
     "output_type": "execute_result"
    }
   ],
   "source": [
    "add_n(1,2,3)"
   ]
  },
  {
   "cell_type": "markdown",
   "metadata": {
    "lc_cell_meme": {
     "current": "a42aaff4-52cd-11e8-b68d-02420aff0006",
     "next": "a42ab080-52cd-11e8-b68d-02420aff0006",
     "previous": "a42aaf68-52cd-11e8-b68d-02420aff0006"
    }
   },
   "source": [
    "## Global and Local Variables"
   ]
  },
  {
   "cell_type": "markdown",
   "metadata": {
    "lc_cell_meme": {
     "current": "a42ab080-52cd-11e8-b68d-02420aff0006",
     "next": "a42ab10c-52cd-11e8-b68d-02420aff0006",
     "previous": "a42aaff4-52cd-11e8-b68d-02420aff0006"
    }
   },
   "source": [
    "Whatever variable is declared inside a function is local variable and outside the function in global variable."
   ]
  },
  {
   "cell_type": "code",
   "execution_count": 24,
   "metadata": {
    "lc_cell_meme": {
     "current": "a42ab10c-52cd-11e8-b68d-02420aff0006",
     "next": "a42ab198-52cd-11e8-b68d-02420aff0006",
     "previous": "a42ab080-52cd-11e8-b68d-02420aff0006"
    }
   },
   "outputs": [],
   "source": [
    "eg1 = [1,2,3,4,5]"
   ]
  },
  {
   "cell_type": "markdown",
   "metadata": {
    "lc_cell_meme": {
     "current": "a42ab198-52cd-11e8-b68d-02420aff0006",
     "next": "a42ab21a-52cd-11e8-b68d-02420aff0006",
     "previous": "a42ab10c-52cd-11e8-b68d-02420aff0006"
    }
   },
   "source": [
    "In the below function we are appending a element to the declared list inside the function. eg2 variable declared inside the function is a local variable."
   ]
  },
  {
   "cell_type": "code",
   "execution_count": 25,
   "metadata": {
    "lc_cell_meme": {
     "current": "a42ab21a-52cd-11e8-b68d-02420aff0006",
     "next": "a42ab2a6-52cd-11e8-b68d-02420aff0006",
     "previous": "a42ab198-52cd-11e8-b68d-02420aff0006"
    }
   },
   "outputs": [],
   "source": [
    "def egfunc1():\n",
    "    def thirdfunc(arg1):\n",
    "        eg2 = arg1[:]\n",
    "        eg2.append(6)\n",
    "        print(\"This is happening inside the function :\", eg2)\n",
    "    print(\"This is happening before the function is called : \", eg1)\n",
    "    thirdfunc(eg1)\n",
    "    print(\"This is happening outside the function :\", eg1)"
   ]
  },
  {
   "cell_type": "code",
   "execution_count": 26,
   "metadata": {
    "lc_cell_meme": {
     "current": "a42ab2a6-52cd-11e8-b68d-02420aff0006",
     "next": "a42ab332-52cd-11e8-b68d-02420aff0006",
     "previous": "a42ab21a-52cd-11e8-b68d-02420aff0006"
    }
   },
   "outputs": [
    {
     "name": "stdout",
     "output_type": "stream",
     "text": [
      "This is happening before the function is called :  [1, 2, 3, 4, 5]\n",
      "This is happening inside the function : [1, 2, 3, 4, 5, 6]\n",
      "This is happening outside the function : [1, 2, 3, 4, 5]\n"
     ]
    }
   ],
   "source": [
    "egfunc1()"
   ]
  },
  {
   "cell_type": "markdown",
   "metadata": {
    "lc_cell_meme": {
     "current": "a42ab332-52cd-11e8-b68d-02420aff0006",
     "next": "a42ab3be-52cd-11e8-b68d-02420aff0006",
     "previous": "a42ab2a6-52cd-11e8-b68d-02420aff0006"
    }
   },
   "source": [
    "If a **global** variable is defined as shown in the example below then that variable can be called from anywhere."
   ]
  },
  {
   "cell_type": "code",
   "execution_count": 27,
   "metadata": {
    "lc_cell_meme": {
     "current": "a42ab3be-52cd-11e8-b68d-02420aff0006",
     "next": "a42ab44a-52cd-11e8-b68d-02420aff0006",
     "previous": "a42ab332-52cd-11e8-b68d-02420aff0006"
    }
   },
   "outputs": [],
   "source": [
    "eg3 = [1,2,3,4,5]"
   ]
  },
  {
   "cell_type": "code",
   "execution_count": 28,
   "metadata": {
    "lc_cell_meme": {
     "current": "a42ab44a-52cd-11e8-b68d-02420aff0006",
     "next": "a42ab4e0-52cd-11e8-b68d-02420aff0006",
     "previous": "a42ab3be-52cd-11e8-b68d-02420aff0006"
    }
   },
   "outputs": [],
   "source": [
    "def egfunc1():\n",
    "    def thirdfunc(arg1):\n",
    "        global eg2\n",
    "        eg2 = arg1[:]\n",
    "        eg2.append(6)\n",
    "        print(\"This is happening inside the function :\", eg2)\n",
    "    print(\"This is happening before the function is called : \", eg1)\n",
    "    thirdfunc(eg1)\n",
    "    print(\"This is happening outside the function :\", eg1)\n",
    "    print(\"Accessing a variable declared inside the function from outside :\" , eg2)"
   ]
  },
  {
   "cell_type": "code",
   "execution_count": 29,
   "metadata": {
    "lc_cell_meme": {
     "current": "a42ab4e0-52cd-11e8-b68d-02420aff0006",
     "next": "a42ab56c-52cd-11e8-b68d-02420aff0006",
     "previous": "a42ab44a-52cd-11e8-b68d-02420aff0006"
    }
   },
   "outputs": [
    {
     "name": "stdout",
     "output_type": "stream",
     "text": [
      "This is happening before the function is called :  [1, 2, 3, 4, 5]\n",
      "This is happening inside the function : [1, 2, 3, 4, 5, 6]\n",
      "This is happening outside the function : [1, 2, 3, 4, 5]\n",
      "Accessing a variable declared inside the function from outside : [1, 2, 3, 4, 5, 6]\n"
     ]
    }
   ],
   "source": [
    "egfunc1()"
   ]
  },
  {
   "cell_type": "markdown",
   "metadata": {
    "lc_cell_meme": {
     "current": "a42ab56c-52cd-11e8-b68d-02420aff0006",
     "next": "a42ab5f8-52cd-11e8-b68d-02420aff0006",
     "previous": "a42ab4e0-52cd-11e8-b68d-02420aff0006"
    }
   },
   "source": [
    "## ラムダ関数"
   ]
  },
  {
   "cell_type": "markdown",
   "metadata": {
    "lc_cell_meme": {
     "current": "a42ab5f8-52cd-11e8-b68d-02420aff0006",
     "next": "a42ab684-52cd-11e8-b68d-02420aff0006",
     "previous": "a42ab56c-52cd-11e8-b68d-02420aff0006"
    }
   },
   "source": [
    "These are small functions which are not defined with any name and carry a single expression whose result is returned. Lambda functions comes very handy when operating with lists. These function are defined by the keyword **lambda** followed by the variables, a colon and the respective expression."
   ]
  },
  {
   "cell_type": "code",
   "execution_count": 30,
   "metadata": {
    "lc_cell_meme": {
     "current": "a42ab684-52cd-11e8-b68d-02420aff0006",
     "next": "a42ab710-52cd-11e8-b68d-02420aff0006",
     "previous": "a42ab5f8-52cd-11e8-b68d-02420aff0006"
    }
   },
   "outputs": [],
   "source": [
    "z = lambda x: x * x"
   ]
  },
  {
   "cell_type": "code",
   "execution_count": 31,
   "metadata": {
    "lc_cell_meme": {
     "current": "a42ab710-52cd-11e8-b68d-02420aff0006",
     "next": "a42ab79c-52cd-11e8-b68d-02420aff0006",
     "previous": "a42ab684-52cd-11e8-b68d-02420aff0006"
    }
   },
   "outputs": [
    {
     "data": {
      "text/plain": [
       "64"
      ]
     },
     "execution_count": 31,
     "metadata": {},
     "output_type": "execute_result"
    }
   ],
   "source": [
    "z(8)"
   ]
  },
  {
   "cell_type": "markdown",
   "metadata": {
    "lc_cell_meme": {
     "current": "a42ab79c-52cd-11e8-b68d-02420aff0006",
     "next": "a42ab81e-52cd-11e8-b68d-02420aff0006",
     "previous": "a42ab710-52cd-11e8-b68d-02420aff0006"
    }
   },
   "source": [
    "### map関数"
   ]
  },
  {
   "cell_type": "markdown",
   "metadata": {
    "lc_cell_meme": {
     "current": "a42ab81e-52cd-11e8-b68d-02420aff0006",
     "next": "a42ab8aa-52cd-11e8-b68d-02420aff0006",
     "previous": "a42ab79c-52cd-11e8-b68d-02420aff0006"
    }
   },
   "source": [
    "**map( )** function basically executes the function that is defined to each of the list's element separately."
   ]
  },
  {
   "cell_type": "code",
   "execution_count": 32,
   "metadata": {
    "lc_cell_meme": {
     "current": "a42ab8aa-52cd-11e8-b68d-02420aff0006",
     "next": "a42ab936-52cd-11e8-b68d-02420aff0006",
     "previous": "a42ab81e-52cd-11e8-b68d-02420aff0006"
    }
   },
   "outputs": [],
   "source": [
    "list1 = [1,2,3,4,5,6,7,8,9]"
   ]
  },
  {
   "cell_type": "code",
   "execution_count": 33,
   "metadata": {
    "lc_cell_meme": {
     "current": "a42ab936-52cd-11e8-b68d-02420aff0006",
     "next": "a42ab9c2-52cd-11e8-b68d-02420aff0006",
     "previous": "a42ab8aa-52cd-11e8-b68d-02420aff0006"
    }
   },
   "outputs": [
    {
     "name": "stdout",
     "output_type": "stream",
     "text": [
      "[3, 4, 5, 6, 7, 8, 9, 10, 11]\n"
     ]
    }
   ],
   "source": [
    "eg = map(lambda x:x+2, list1)\n",
    "print(list(eg))"
   ]
  },
  {
   "cell_type": "markdown",
   "metadata": {
    "lc_cell_meme": {
     "current": "a42ab9c2-52cd-11e8-b68d-02420aff0006",
     "next": "a42aba4e-52cd-11e8-b68d-02420aff0006",
     "previous": "a42ab936-52cd-11e8-b68d-02420aff0006"
    }
   },
   "source": [
    "You can also add two lists."
   ]
  },
  {
   "cell_type": "code",
   "execution_count": 34,
   "metadata": {
    "lc_cell_meme": {
     "current": "a42aba4e-52cd-11e8-b68d-02420aff0006",
     "next": "a42abae4-52cd-11e8-b68d-02420aff0006",
     "previous": "a42ab9c2-52cd-11e8-b68d-02420aff0006"
    }
   },
   "outputs": [],
   "source": [
    "list2 = [9,8,7,6,5,4,3,2,1]"
   ]
  },
  {
   "cell_type": "code",
   "execution_count": 35,
   "metadata": {
    "lc_cell_meme": {
     "current": "a42abae4-52cd-11e8-b68d-02420aff0006",
     "next": "a42abb70-52cd-11e8-b68d-02420aff0006",
     "previous": "a42aba4e-52cd-11e8-b68d-02420aff0006"
    }
   },
   "outputs": [
    {
     "name": "stdout",
     "output_type": "stream",
     "text": [
      "[10, 10, 10, 10, 10, 10, 10, 10, 10]\n"
     ]
    }
   ],
   "source": [
    "eg2 = map(lambda x,y:x+y, list1,list2)\n",
    "print(list(eg2))"
   ]
  },
  {
   "cell_type": "markdown",
   "metadata": {
    "lc_cell_meme": {
     "current": "a42abb70-52cd-11e8-b68d-02420aff0006",
     "next": "a42abbfc-52cd-11e8-b68d-02420aff0006",
     "previous": "a42abae4-52cd-11e8-b68d-02420aff0006"
    }
   },
   "source": [
    "Not only lambda function but also other built in functions can also be used."
   ]
  },
  {
   "cell_type": "code",
   "execution_count": 36,
   "metadata": {
    "lc_cell_meme": {
     "current": "a42abbfc-52cd-11e8-b68d-02420aff0006",
     "next": "a42abc92-52cd-11e8-b68d-02420aff0006",
     "previous": "a42abb70-52cd-11e8-b68d-02420aff0006"
    }
   },
   "outputs": [
    {
     "name": "stdout",
     "output_type": "stream",
     "text": [
      "['10', '10', '10', '10', '10', '10', '10', '10', '10']\n"
     ]
    }
   ],
   "source": [
    "eg2 = map(lambda x,y:x+y, list1,list2)\n",
    "eg3 = map(str,eg2)\n",
    "print(list(eg3))"
   ]
  },
  {
   "cell_type": "markdown",
   "metadata": {
    "lc_cell_meme": {
     "current": "a42abc92-52cd-11e8-b68d-02420aff0006",
     "next": "a42abd14-52cd-11e8-b68d-02420aff0006",
     "previous": "a42abbfc-52cd-11e8-b68d-02420aff0006"
    }
   },
   "source": [
    "### filter関数"
   ]
  },
  {
   "cell_type": "markdown",
   "metadata": {
    "lc_cell_meme": {
     "current": "a42abd14-52cd-11e8-b68d-02420aff0006",
     "next": "a42abdbe-52cd-11e8-b68d-02420aff0006",
     "previous": "a42abc92-52cd-11e8-b68d-02420aff0006"
    }
   },
   "source": [
    "**filter( )** function is used to filter out the values in a list. Note that **filter()** function returns the result in a new list."
   ]
  },
  {
   "cell_type": "code",
   "execution_count": 37,
   "metadata": {
    "lc_cell_meme": {
     "current": "a42abdbe-52cd-11e8-b68d-02420aff0006",
     "next": "a42abeae-52cd-11e8-b68d-02420aff0006",
     "previous": "a42abd14-52cd-11e8-b68d-02420aff0006"
    }
   },
   "outputs": [],
   "source": [
    "list1 = [1,2,3,4,5,6,7,8,9]"
   ]
  },
  {
   "cell_type": "markdown",
   "metadata": {
    "lc_cell_meme": {
     "current": "a42abeae-52cd-11e8-b68d-02420aff0006",
     "next": "a42abf4e-52cd-11e8-b68d-02420aff0006",
     "previous": "a42abdbe-52cd-11e8-b68d-02420aff0006"
    }
   },
   "source": [
    "To get the elements which are less than 5,"
   ]
  },
  {
   "cell_type": "code",
   "execution_count": 38,
   "metadata": {
    "lc_cell_meme": {
     "current": "a42abf4e-52cd-11e8-b68d-02420aff0006",
     "next": "a42abfda-52cd-11e8-b68d-02420aff0006",
     "previous": "a42abeae-52cd-11e8-b68d-02420aff0006"
    }
   },
   "outputs": [
    {
     "data": {
      "text/plain": [
       "[1, 2, 3, 4]"
      ]
     },
     "execution_count": 38,
     "metadata": {},
     "output_type": "execute_result"
    }
   ],
   "source": [
    "list(filter(lambda x:x<5,list1))"
   ]
  },
  {
   "cell_type": "markdown",
   "metadata": {
    "lc_cell_meme": {
     "current": "a42abfda-52cd-11e8-b68d-02420aff0006",
     "next": "a42ac070-52cd-11e8-b68d-02420aff0006",
     "previous": "a42abf4e-52cd-11e8-b68d-02420aff0006"
    }
   },
   "source": [
    "Notice what happens when **map()** is used."
   ]
  },
  {
   "cell_type": "code",
   "execution_count": 39,
   "metadata": {
    "lc_cell_meme": {
     "current": "a42ac070-52cd-11e8-b68d-02420aff0006",
     "next": "a42ac0fc-52cd-11e8-b68d-02420aff0006",
     "previous": "a42abfda-52cd-11e8-b68d-02420aff0006"
    }
   },
   "outputs": [
    {
     "data": {
      "text/plain": [
       "[True, True, True, True, False, False, False, False, False]"
      ]
     },
     "execution_count": 39,
     "metadata": {},
     "output_type": "execute_result"
    }
   ],
   "source": [
    "list(map(lambda x:x<5, list1))"
   ]
  },
  {
   "cell_type": "markdown",
   "metadata": {
    "lc_cell_meme": {
     "current": "a42ac0fc-52cd-11e8-b68d-02420aff0006",
     "next": "a42ac188-52cd-11e8-b68d-02420aff0006",
     "previous": "a42ac070-52cd-11e8-b68d-02420aff0006"
    }
   },
   "source": [
    "We can conclude that, whatever is returned true in **map( )** function that particular element is returned when **filter( )** function is used."
   ]
  },
  {
   "cell_type": "code",
   "execution_count": 40,
   "metadata": {
    "lc_cell_meme": {
     "current": "a42ac188-52cd-11e8-b68d-02420aff0006",
     "history": [
      {
       "current": "a42ac188-52cd-11e8-b68d-02420aff0006",
       "next": null,
       "previous": "a42ac0fc-52cd-11e8-b68d-02420aff0006"
      }
     ],
     "next": null,
     "previous": "a42ac0fc-52cd-11e8-b68d-02420aff0006"
    }
   },
   "outputs": [
    {
     "data": {
      "text/plain": [
       "[4, 8]"
      ]
     },
     "execution_count": 40,
     "metadata": {},
     "output_type": "execute_result"
    }
   ],
   "source": [
    "list(filter(lambda x:x%4==0,list1))"
   ]
  },
  {
   "cell_type": "code",
   "execution_count": null,
   "metadata": {
    "lc_cell_meme": {}
   },
   "outputs": [],
   "source": []
  }
 ],
 "metadata": {
  "kernelspec": {
   "display_name": "Python 3",
   "language": "python",
   "name": "python3"
  },
  "language_info": {
   "codemirror_mode": {
    "name": "ipython",
    "version": 3
   },
   "file_extension": ".py",
   "mimetype": "text/x-python",
   "name": "python",
   "nbconvert_exporter": "python",
   "pygments_lexer": "ipython3",
   "version": "3.5.5"
  },
  "lc_notebook_meme": {
   "current": "a42a91cc-52cd-11e8-b68d-02420aff0006",
   "lc_server_signature": {
    "current": {
     "notebook_dir": "/home/satoshiyazawa4fc701",
     "notebook_path": "/Python-Lectures-master",
     "server_url": "https://nb08.ecloud.nii.ac.jp/user/satoshiyazawa4fc701/",
     "signature_id": "2a78ec32-397a-11e8-b68d-02420aff0006"
    },
    "history": []
   }
  },
  "toc": {
   "base_numbering": 1,
   "nav_menu": {},
   "number_sections": true,
   "sideBar": true,
   "skip_h1_title": false,
   "title_cell": "Table of Contents",
   "title_sidebar": "Contents",
   "toc_cell": false,
   "toc_position": {},
   "toc_section_display": true,
   "toc_window_display": false
  }
 },
 "nbformat": 4,
 "nbformat_minor": 1
}
