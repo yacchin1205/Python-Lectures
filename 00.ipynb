{
 "cells": [
  {
   "cell_type": "markdown",
   "metadata": {
    "lc_cell_meme": {
     "current": "04bcd0c0-52b7-11e8-b68d-02420aff0006",
     "next": "04bcd188-52b7-11e8-b68d-02420aff0006",
     "previous": null
    }
   },
   "source": [
    "この講義のJupyter Notebookは以下のリポジトリよりダウンロードできます: https://github.com/yacchin1205/Python-Lectures"
   ]
  },
  {
   "cell_type": "markdown",
   "metadata": {
    "lc_cell_meme": {
     "current": "04bcd188-52b7-11e8-b68d-02420aff0006",
     "next": "04bcd232-52b7-11e8-b68d-02420aff0006",
     "previous": "04bcd0c0-52b7-11e8-b68d-02420aff0006"
    }
   },
   "source": [
    "# Python-Lectures"
   ]
  },
  {
   "cell_type": "markdown",
   "metadata": {
    "lc_cell_meme": {
     "current": "04bcd232-52b7-11e8-b68d-02420aff0006",
     "next": "04bcd2c8-52b7-11e8-b68d-02420aff0006",
     "previous": "04bcd188-52b7-11e8-b68d-02420aff0006"
    }
   },
   "source": [
    "## Introduction"
   ]
  },
  {
   "cell_type": "markdown",
   "metadata": {
    "lc_cell_meme": {
     "current": "04bcd2c8-52b7-11e8-b68d-02420aff0006",
     "next": "04bcd35e-52b7-11e8-b68d-02420aff0006",
     "previous": "04bcd232-52b7-11e8-b68d-02420aff0006"
    }
   },
   "source": [
    "Python is a modern, robust, high level programming language. It is very easy to pick up even if you are completely new to programming."
   ]
  },
  {
   "cell_type": "markdown",
   "metadata": {
    "lc_cell_meme": {
     "current": "04bcd35e-52b7-11e8-b68d-02420aff0006",
     "next": "04bcd3ea-52b7-11e8-b68d-02420aff0006",
     "previous": "04bcd2c8-52b7-11e8-b68d-02420aff0006"
    }
   },
   "source": [
    "## インストール"
   ]
  },
  {
   "cell_type": "markdown",
   "metadata": {
    "lc_cell_meme": {
     "current": "04bcd3ea-52b7-11e8-b68d-02420aff0006",
     "next": "04bcd476-52b7-11e8-b68d-02420aff0006",
     "previous": "04bcd35e-52b7-11e8-b68d-02420aff0006"
    }
   },
   "source": [
    "1. [Miniconda](https://conda.io/miniconda.html)のサイトから、Python 3.6のインストーラをダウンロードする\n",
    "2. ターミナルから、 bash (Installerをダウンロードしたパス) を実行する\n",
    "3. ターミナルから、以下のコマンドを実行する(miniconda3のインストールパスをデフォルトのものにした場合)\n",
    "\n",
    "```\n",
    "$ source ~/miniconda3/bin/activate\n",
    "$ conda install notebook\n",
    "```\n"
   ]
  },
  {
   "cell_type": "markdown",
   "metadata": {
    "lc_cell_meme": {
     "current": "04bcd476-52b7-11e8-b68d-02420aff0006",
     "next": "04bcd502-52b7-11e8-b68d-02420aff0006",
     "previous": "04bcd3ea-52b7-11e8-b68d-02420aff0006"
    }
   },
   "source": [
    "## Jupyter Notebookの起動\n"
   ]
  },
  {
   "cell_type": "markdown",
   "metadata": {
    "lc_cell_meme": {
     "current": "04bcd502-52b7-11e8-b68d-02420aff0006",
     "next": "04bcd58e-52b7-11e8-b68d-02420aff0006",
     "previous": "04bcd476-52b7-11e8-b68d-02420aff0006"
    }
   },
   "source": [
    "ターミナルから、以下のコマンドを入力します。(miniconda3を利用してインストールした場合)\n",
    "\n",
    "```\n",
    "$ source ~/miniconda3/bin/activate\n",
    "$ jupyter notebook\n",
    "```\n"
   ]
  },
  {
   "cell_type": "markdown",
   "metadata": {
    "lc_cell_meme": {
     "current": "04bcd58e-52b7-11e8-b68d-02420aff0006",
     "next": "04bcd61a-52b7-11e8-b68d-02420aff0006",
     "previous": "04bcd502-52b7-11e8-b68d-02420aff0006"
    }
   },
   "source": [
    "## このNotebookの使い方"
   ]
  },
  {
   "cell_type": "markdown",
   "metadata": {
    "lc_cell_meme": {
     "current": "04bcd61a-52b7-11e8-b68d-02420aff0006",
     "next": "04bcd6a6-52b7-11e8-b68d-02420aff0006",
     "previous": "04bcd58e-52b7-11e8-b68d-02420aff0006"
    }
   },
   "source": [
    "\n",
    "このリポジトリ https://github.com/yacchin1205/Python-Lectures の全てのNotebookをダウンロードし、皆さんのJupyter Notebook環境にアップロードしてください。\n",
    "\n",
    "あとは、Notebookを実行しながら学習してみてください。Notebookでは、メニューから、\n",
    "\n",
    "    Cell > All Output > Clear\n",
    "    \n",
    "を選択することで、全ての出力を消去することができます。その上で、セルに記述されたコードの理解と、実行結果の確認をしてみてください。\n"
   ]
  },
  {
   "cell_type": "markdown",
   "metadata": {
    "lc_cell_meme": {
     "current": "04bcd6a6-52b7-11e8-b68d-02420aff0006",
     "next": "04bcd73c-52b7-11e8-b68d-02420aff0006",
     "previous": "04bcd61a-52b7-11e8-b68d-02420aff0006"
    }
   },
   "source": [
    "## License"
   ]
  },
  {
   "cell_type": "markdown",
   "metadata": {
    "lc_cell_meme": {
     "current": "04bcd73c-52b7-11e8-b68d-02420aff0006",
     "history": [
      {
       "current": "04bcd73c-52b7-11e8-b68d-02420aff0006",
       "next": null,
       "previous": "04bcd6a6-52b7-11e8-b68d-02420aff0006"
      }
     ],
     "next": "1270a55c-52b7-11e8-b68d-02420aff0006",
     "previous": "04bcd6a6-52b7-11e8-b68d-02420aff0006"
    }
   },
   "source": [
    "This work is licensed under the Creative Commons Attribution 3.0 Unported License. To view a copy of this license, visit http://creativecommons.org/licenses/by/3.0/"
   ]
  },
  {
   "cell_type": "code",
   "execution_count": null,
   "metadata": {
    "lc_cell_meme": {
     "current": "1270a55c-52b7-11e8-b68d-02420aff0006",
     "next": null,
     "previous": "04bcd73c-52b7-11e8-b68d-02420aff0006"
    }
   },
   "outputs": [],
   "source": []
  }
 ],
 "metadata": {
  "kernelspec": {
   "display_name": "Python 2",
   "language": "python",
   "name": "python2"
  },
  "language_info": {
   "codemirror_mode": {
    "name": "ipython",
    "version": 3
   },
   "file_extension": ".py",
   "mimetype": "text/x-python",
   "name": "python",
   "nbconvert_exporter": "python",
   "pygments_lexer": "ipython3",
   "version": "3.5.5"
  },
  "lc_notebook_meme": {
   "current": "04bccec2-52b7-11e8-b68d-02420aff0006",
   "lc_server_signature": {
    "current": {
     "notebook_dir": "/home/satoshiyazawa4fc701",
     "notebook_path": "/Python-Lectures-master",
     "server_url": "https://nb08.ecloud.nii.ac.jp/user/satoshiyazawa4fc701/",
     "signature_id": "2a78ec32-397a-11e8-b68d-02420aff0006"
    },
    "history": []
   }
  },
  "toc": {
   "base_numbering": 1,
   "nav_menu": {},
   "number_sections": true,
   "sideBar": true,
   "skip_h1_title": false,
   "title_cell": "Table of Contents",
   "title_sidebar": "Contents",
   "toc_cell": false,
   "toc_position": {},
   "toc_section_display": true,
   "toc_window_display": false
  }
 },
 "nbformat": 4,
 "nbformat_minor": 1
}
