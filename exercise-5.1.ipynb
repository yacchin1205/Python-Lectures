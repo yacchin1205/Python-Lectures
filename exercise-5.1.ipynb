{
 "cells": [
  {
   "cell_type": "markdown",
   "metadata": {
    "lc_cell_meme": {
     "current": "d3a0bfd6-5353-11e8-b68d-02420aff0006",
     "history": [
      {
       "current": "d3a0bfd6-5353-11e8-b68d-02420aff0006",
       "next": "d3a0c094-5353-11e8-b68d-02420aff0006",
       "previous": null
      }
     ],
     "next": "62b41740-5354-11e8-b68d-02420aff0006",
     "previous": null
    }
   },
   "source": [
    "# 演習5.1\n",
    "\n",
    "教科書 P.109 八十八夜問題をPythonで記述してみましょう。\n"
   ]
  },
  {
   "cell_type": "code",
   "execution_count": null,
   "metadata": {
    "lc_cell_meme": {
     "current": "62b41740-5354-11e8-b68d-02420aff0006",
     "next": "62b418b2-5354-11e8-b68d-02420aff0006",
     "previous": "d3a0bfd6-5353-11e8-b68d-02420aff0006"
    }
   },
   "outputs": [],
   "source": [
    "input_month = int(input('何月？ '))"
   ]
  },
  {
   "cell_type": "code",
   "execution_count": null,
   "metadata": {
    "lc_cell_meme": {
     "current": "62b418b2-5354-11e8-b68d-02420aff0006",
     "history": [
      {
       "current": "62b418b2-5354-11e8-b68d-02420aff0006",
       "next": "d3a0c094-5353-11e8-b68d-02420aff0006",
       "previous": "62b41740-5354-11e8-b68d-02420aff0006"
      }
     ],
     "next": "31c76d3e-5355-11e8-b68d-02420aff0006",
     "previous": "62b41740-5354-11e8-b68d-02420aff0006"
    }
   },
   "outputs": [],
   "source": [
    "input_day = int(input('何日？ '))"
   ]
  },
  {
   "cell_type": "code",
   "execution_count": null,
   "metadata": {
    "lc_cell_meme": {
     "current": "31c76d3e-5355-11e8-b68d-02420aff0006",
     "next": "d3a0c094-5353-11e8-b68d-02420aff0006",
     "previous": "62b418b2-5354-11e8-b68d-02420aff0006"
    }
   },
   "outputs": [],
   "source": [
    "daymonth = [31, 28, 31, 30, 31, 30, 31, 31, 30, 31, 30, 31]"
   ]
  },
  {
   "cell_type": "code",
   "execution_count": null,
   "metadata": {
    "lc_cell_meme": {
     "current": "d3a0c094-5353-11e8-b68d-02420aff0006",
     "history": [
      {
       "current": "d3a0c094-5353-11e8-b68d-02420aff0006",
       "next": null,
       "previous": "d3a0bfd6-5353-11e8-b68d-02420aff0006"
      },
      {
       "current": "d3a0c094-5353-11e8-b68d-02420aff0006",
       "next": "62b41970-5354-11e8-b68d-02420aff0006",
       "previous": "62b418b2-5354-11e8-b68d-02420aff0006"
      }
     ],
     "next": "62b41970-5354-11e8-b68d-02420aff0006",
     "previous": "31c76d3e-5355-11e8-b68d-02420aff0006"
    }
   },
   "outputs": [],
   "source": [
    "remain = input_day + 87\n",
    "m = input_month\n",
    "\n",
    "# ** ここを自分で書いてみよう **\n",
    "# while <残り日数> > <mに対応するdaymonthの値>:\n",
    "#    <残り日数> = <残り日数> - <mに対応するdaymonthの値>\n",
    "#    m = m + 1\n",
    "    \n",
    "print('%d 月 %d 日 の八十八夜は ... %d 月 %d 日' % (input_month, input_day, m, remain))"
   ]
  },
  {
   "cell_type": "code",
   "execution_count": null,
   "metadata": {
    "lc_cell_meme": {
     "current": "62b41970-5354-11e8-b68d-02420aff0006",
     "next": null,
     "previous": "d3a0c094-5353-11e8-b68d-02420aff0006"
    }
   },
   "outputs": [],
   "source": []
  }
 ],
 "metadata": {
  "kernelspec": {
   "display_name": "Python 3",
   "language": "python",
   "name": "python3"
  },
  "language_info": {
   "codemirror_mode": {
    "name": "ipython",
    "version": 3
   },
   "file_extension": ".py",
   "mimetype": "text/x-python",
   "name": "python",
   "nbconvert_exporter": "python",
   "pygments_lexer": "ipython3",
   "version": "3.5.5"
  },
  "lc_notebook_meme": {
   "current": "d3a0be14-5353-11e8-b68d-02420aff0006",
   "lc_server_signature": {
    "current": {
     "notebook_dir": "/home/satoshiyazawa4fc701",
     "notebook_path": "/",
     "server_url": "https://nb08.ecloud.nii.ac.jp/user/satoshiyazawa4fc701/",
     "signature_id": "2a78ec32-397a-11e8-b68d-02420aff0006"
    },
    "history": []
   }
  },
  "toc": {
   "base_numbering": 1,
   "nav_menu": {},
   "number_sections": true,
   "sideBar": true,
   "skip_h1_title": false,
   "title_cell": "Table of Contents",
   "title_sidebar": "Contents",
   "toc_cell": false,
   "toc_position": {},
   "toc_section_display": true,
   "toc_window_display": false
  }
 },
 "nbformat": 4,
 "nbformat_minor": 2
}
