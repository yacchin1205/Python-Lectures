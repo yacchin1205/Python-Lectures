{
 "cells": [
  {
   "cell_type": "markdown",
   "metadata": {
    "lc_cell_meme": {
     "current": "04bcd0c0-52b7-11e8-b68d-02420aff0006",
     "history": [
      {
       "current": "04bcd0c0-52b7-11e8-b68d-02420aff0006",
       "next": "04bcd188-52b7-11e8-b68d-02420aff0006",
       "previous": null
      }
     ],
     "next": "9d9b625a-52cd-11e8-b68d-02420aff0006",
     "previous": null
    }
   },
   "source": [
    "この講義のJupyter Notebookは以下のリポジトリよりダウンロードできます: https://github.com/yacchin1205/Python-Lectures"
   ]
  },
  {
   "cell_type": "markdown",
   "metadata": {
    "lc_cell_meme": {
     "current": "9d9b625a-52cd-11e8-b68d-02420aff0006",
     "history": [
      {
       "current": "9d9b625a-52cd-11e8-b68d-02420aff0006",
       "next": "9d9b62fa-52cd-11e8-b68d-02420aff0006",
       "previous": "9d9b619c-52cd-11e8-b68d-02420aff0006"
      }
     ],
     "next": "9d9b62fa-52cd-11e8-b68d-02420aff0006",
     "previous": "04bcd0c0-52b7-11e8-b68d-02420aff0006"
    }
   },
   "source": [
    "# 制御構文"
   ]
  },
  {
   "cell_type": "markdown",
   "metadata": {
    "lc_cell_meme": {
     "current": "9d9b62fa-52cd-11e8-b68d-02420aff0006",
     "next": "9d9b6386-52cd-11e8-b68d-02420aff0006",
     "previous": "9d9b625a-52cd-11e8-b68d-02420aff0006"
    }
   },
   "source": [
    "## 条件文 If"
   ]
  },
  {
   "cell_type": "markdown",
   "metadata": {
    "lc_cell_meme": {
     "current": "9d9b6386-52cd-11e8-b68d-02420aff0006",
     "next": "9d9b641c-52cd-11e8-b68d-02420aff0006",
     "previous": "9d9b62fa-52cd-11e8-b68d-02420aff0006"
    }
   },
   "source": [
    "if 条件:\n",
    "    \n",
    "    行ないたい処理"
   ]
  },
  {
   "cell_type": "code",
   "execution_count": 1,
   "metadata": {
    "lc_cell_meme": {
     "current": "9d9b641c-52cd-11e8-b68d-02420aff0006",
     "next": "9d9b649e-52cd-11e8-b68d-02420aff0006",
     "previous": "9d9b6386-52cd-11e8-b68d-02420aff0006"
    }
   },
   "outputs": [
    {
     "name": "stdout",
     "output_type": "stream",
     "text": [
      "Hello\n"
     ]
    }
   ],
   "source": [
    "x = 12\n",
    "if x >10:\n",
    "    print(\"Hello\")"
   ]
  },
  {
   "cell_type": "markdown",
   "metadata": {
    "lc_cell_meme": {
     "current": "9d9b649e-52cd-11e8-b68d-02420aff0006",
     "next": "9d9b652a-52cd-11e8-b68d-02420aff0006",
     "previous": "9d9b641c-52cd-11e8-b68d-02420aff0006"
    }
   },
   "source": [
    "## 条件文 If-else"
   ]
  },
  {
   "cell_type": "markdown",
   "metadata": {
    "lc_cell_meme": {
     "current": "9d9b652a-52cd-11e8-b68d-02420aff0006",
     "next": "9d9b65b6-52cd-11e8-b68d-02420aff0006",
     "previous": "9d9b649e-52cd-11e8-b68d-02420aff0006"
    }
   },
   "source": [
    "if 条件:\n",
    "    \n",
    "    条件成立した場合の処理\n",
    "    \n",
    "else:\n",
    "    \n",
    "    条件成立しなかった場合の処理"
   ]
  },
  {
   "cell_type": "code",
   "execution_count": 2,
   "metadata": {
    "lc_cell_meme": {
     "current": "9d9b65b6-52cd-11e8-b68d-02420aff0006",
     "next": "9d9b6642-52cd-11e8-b68d-02420aff0006",
     "previous": "9d9b652a-52cd-11e8-b68d-02420aff0006"
    }
   },
   "outputs": [
    {
     "name": "stdout",
     "output_type": "stream",
     "text": [
      "hello\n"
     ]
    }
   ],
   "source": [
    "x = 12\n",
    "if x > 10:\n",
    "    print(\"hello\")\n",
    "else:\n",
    "    print(\"world\")"
   ]
  },
  {
   "cell_type": "markdown",
   "metadata": {
    "lc_cell_meme": {
     "current": "9d9b6642-52cd-11e8-b68d-02420aff0006",
     "next": "9d9b66ce-52cd-11e8-b68d-02420aff0006",
     "previous": "9d9b65b6-52cd-11e8-b68d-02420aff0006"
    }
   },
   "source": [
    "## 条件文 If-elif"
   ]
  },
  {
   "cell_type": "markdown",
   "metadata": {
    "lc_cell_meme": {
     "current": "9d9b66ce-52cd-11e8-b68d-02420aff0006",
     "next": "9d9b675a-52cd-11e8-b68d-02420aff0006",
     "previous": "9d9b6642-52cd-11e8-b68d-02420aff0006"
    }
   },
   "source": [
    "if 条件1:\n",
    "    \n",
    "    条件1が成立した場合の処理\n",
    "\n",
    "elif 条件2:\n",
    "    \n",
    "    条件1が成立せず、条件2が成立した場合の処理\n",
    "\n",
    "else:\n",
    "    \n",
    "    条件1と条件2いずれも成立しなかった場合の処理"
   ]
  },
  {
   "cell_type": "code",
   "execution_count": 3,
   "metadata": {
    "lc_cell_meme": {
     "current": "9d9b675a-52cd-11e8-b68d-02420aff0006",
     "next": "9d9b67e6-52cd-11e8-b68d-02420aff0006",
     "previous": "9d9b66ce-52cd-11e8-b68d-02420aff0006"
    }
   },
   "outputs": [
    {
     "name": "stdout",
     "output_type": "stream",
     "text": [
      "x<y\n"
     ]
    }
   ],
   "source": [
    "x = 10\n",
    "y = 12\n",
    "if x > y:\n",
    "    print(\"x>y\")\n",
    "elif x < y:\n",
    "    print(\"x<y\")\n",
    "else:\n",
    "    print(\"x=y\")"
   ]
  },
  {
   "cell_type": "markdown",
   "metadata": {
    "lc_cell_meme": {
     "current": "9d9b67e6-52cd-11e8-b68d-02420aff0006",
     "next": "9d9b6872-52cd-11e8-b68d-02420aff0006",
     "previous": "9d9b675a-52cd-11e8-b68d-02420aff0006"
    }
   },
   "source": [
    "ifやif-elif, if-else文中のif文を、ネストされたif文と呼びます。(日本語では入れ子などと呼んだりもします)"
   ]
  },
  {
   "cell_type": "code",
   "execution_count": 4,
   "metadata": {
    "lc_cell_meme": {
     "current": "9d9b6872-52cd-11e8-b68d-02420aff0006",
     "next": "9d9b68fe-52cd-11e8-b68d-02420aff0006",
     "previous": "9d9b67e6-52cd-11e8-b68d-02420aff0006"
    }
   },
   "outputs": [
    {
     "name": "stdout",
     "output_type": "stream",
     "text": [
      "x<y\n",
      "x=10\n"
     ]
    }
   ],
   "source": [
    "x = 10\n",
    "y = 12\n",
    "if x > y:\n",
    "    print(\"x>y\")\n",
    "elif x < y:\n",
    "    print(\"x<y\")\n",
    "    if x==10:\n",
    "        print(\"x=10\")\n",
    "    else:\n",
    "        print(\"invalid\")\n",
    "else:\n",
    "    print(\"x=y\")"
   ]
  },
  {
   "cell_type": "markdown",
   "metadata": {
    "lc_cell_meme": {
     "current": "9d9b68fe-52cd-11e8-b68d-02420aff0006",
     "next": "9d9b698a-52cd-11e8-b68d-02420aff0006",
     "previous": "9d9b6872-52cd-11e8-b68d-02420aff0006"
    }
   },
   "source": [
    "## 繰り返し"
   ]
  },
  {
   "cell_type": "markdown",
   "metadata": {
    "lc_cell_meme": {
     "current": "9d9b698a-52cd-11e8-b68d-02420aff0006",
     "next": "9d9b6a0c-52cd-11e8-b68d-02420aff0006",
     "previous": "9d9b68fe-52cd-11e8-b68d-02420aff0006"
    }
   },
   "source": [
    "### For"
   ]
  },
  {
   "cell_type": "markdown",
   "metadata": {
    "lc_cell_meme": {
     "current": "9d9b6a0c-52cd-11e8-b68d-02420aff0006",
     "next": "9d9b6aa2-52cd-11e8-b68d-02420aff0006",
     "previous": "9d9b698a-52cd-11e8-b68d-02420aff0006"
    }
   },
   "source": [
    "for 変数名 in 式:\n",
    "    \n",
    "    繰り返したい処理"
   ]
  },
  {
   "cell_type": "code",
   "execution_count": 5,
   "metadata": {
    "lc_cell_meme": {
     "current": "9d9b6aa2-52cd-11e8-b68d-02420aff0006",
     "next": "9d9b6b2e-52cd-11e8-b68d-02420aff0006",
     "previous": "9d9b6a0c-52cd-11e8-b68d-02420aff0006"
    }
   },
   "outputs": [
    {
     "name": "stdout",
     "output_type": "stream",
     "text": [
      "0\n",
      "1\n",
      "2\n",
      "3\n",
      "4\n"
     ]
    }
   ],
   "source": [
    "for i in range(5):\n",
    "    print(i)"
   ]
  },
  {
   "cell_type": "markdown",
   "metadata": {
    "lc_cell_meme": {
     "current": "9d9b6b2e-52cd-11e8-b68d-02420aff0006",
     "next": "9d9b6bba-52cd-11e8-b68d-02420aff0006",
     "previous": "9d9b6aa2-52cd-11e8-b68d-02420aff0006"
    }
   },
   "source": [
    "In the above example, i iterates over the 0,1,2,3,4. Every time it takes each value and executes the algorithm inside the loop. It is also possible to iterate over a nested list illustrated below."
   ]
  },
  {
   "cell_type": "code",
   "execution_count": 6,
   "metadata": {
    "lc_cell_meme": {
     "current": "9d9b6bba-52cd-11e8-b68d-02420aff0006",
     "next": "9d9b6c46-52cd-11e8-b68d-02420aff0006",
     "previous": "9d9b6b2e-52cd-11e8-b68d-02420aff0006"
    }
   },
   "outputs": [
    {
     "name": "stdout",
     "output_type": "stream",
     "text": [
      "[1, 2, 3]\n",
      "[4, 5, 6]\n",
      "[7, 8, 9]\n"
     ]
    }
   ],
   "source": [
    "list_of_lists = [[1, 2, 3], [4, 5, 6], [7, 8, 9]]\n",
    "for list1 in list_of_lists:\n",
    "        print(list1)"
   ]
  },
  {
   "cell_type": "markdown",
   "metadata": {
    "lc_cell_meme": {
     "current": "9d9b6c46-52cd-11e8-b68d-02420aff0006",
     "next": "9d9b6cd2-52cd-11e8-b68d-02420aff0006",
     "previous": "9d9b6bba-52cd-11e8-b68d-02420aff0006"
    }
   },
   "source": [
    "A use case of a nested for loop in this case would be,"
   ]
  },
  {
   "cell_type": "code",
   "execution_count": 7,
   "metadata": {
    "lc_cell_meme": {
     "current": "9d9b6cd2-52cd-11e8-b68d-02420aff0006",
     "next": "9d9b6d5e-52cd-11e8-b68d-02420aff0006",
     "previous": "9d9b6c46-52cd-11e8-b68d-02420aff0006"
    }
   },
   "outputs": [
    {
     "name": "stdout",
     "output_type": "stream",
     "text": [
      "1\n",
      "2\n",
      "3\n",
      "4\n",
      "5\n",
      "6\n",
      "7\n",
      "8\n",
      "9\n"
     ]
    }
   ],
   "source": [
    "list_of_lists = [[1, 2, 3], [4, 5, 6], [7, 8, 9]]\n",
    "for list1 in list_of_lists:\n",
    "    for x in list1:\n",
    "        print(x)"
   ]
  },
  {
   "cell_type": "markdown",
   "metadata": {
    "lc_cell_meme": {
     "current": "9d9b6d5e-52cd-11e8-b68d-02420aff0006",
     "next": "9d9b6dea-52cd-11e8-b68d-02420aff0006",
     "previous": "9d9b6cd2-52cd-11e8-b68d-02420aff0006"
    }
   },
   "source": [
    "### While"
   ]
  },
  {
   "cell_type": "markdown",
   "metadata": {
    "lc_cell_meme": {
     "current": "9d9b6dea-52cd-11e8-b68d-02420aff0006",
     "next": "9d9b6e76-52cd-11e8-b68d-02420aff0006",
     "previous": "9d9b6d5e-52cd-11e8-b68d-02420aff0006"
    }
   },
   "source": [
    "while 条件:\n",
    "    \n",
    "    繰り返したい処理"
   ]
  },
  {
   "cell_type": "code",
   "execution_count": 8,
   "metadata": {
    "lc_cell_meme": {
     "current": "9d9b6e76-52cd-11e8-b68d-02420aff0006",
     "next": "9d9b6f02-52cd-11e8-b68d-02420aff0006",
     "previous": "9d9b6dea-52cd-11e8-b68d-02420aff0006"
    }
   },
   "outputs": [
    {
     "name": "stdout",
     "output_type": "stream",
     "text": [
      "1\n",
      "4\n",
      "Bye\n"
     ]
    }
   ],
   "source": [
    "i = 1\n",
    "while i < 3:\n",
    "    print(i ** 2)\n",
    "    i = i+1\n",
    "print('Bye')"
   ]
  },
  {
   "cell_type": "markdown",
   "metadata": {
    "lc_cell_meme": {
     "current": "9d9b6f02-52cd-11e8-b68d-02420aff0006",
     "next": "9d9b6f8e-52cd-11e8-b68d-02420aff0006",
     "previous": "9d9b6e76-52cd-11e8-b68d-02420aff0006"
    }
   },
   "source": [
    "## Break"
   ]
  },
  {
   "cell_type": "markdown",
   "metadata": {
    "lc_cell_meme": {
     "current": "9d9b6f8e-52cd-11e8-b68d-02420aff0006",
     "next": "9d9b701a-52cd-11e8-b68d-02420aff0006",
     "previous": "9d9b6f02-52cd-11e8-b68d-02420aff0006"
    }
   },
   "source": [
    "As the name says. It is used to break out of a loop when a condition becomes true when executing the loop."
   ]
  },
  {
   "cell_type": "code",
   "execution_count": 9,
   "metadata": {
    "lc_cell_meme": {
     "current": "9d9b701a-52cd-11e8-b68d-02420aff0006",
     "next": "9d9b70a6-52cd-11e8-b68d-02420aff0006",
     "previous": "9d9b6f8e-52cd-11e8-b68d-02420aff0006"
    }
   },
   "outputs": [
    {
     "name": "stdout",
     "output_type": "stream",
     "text": [
      "0\n",
      "1\n",
      "2\n",
      "3\n",
      "4\n",
      "5\n",
      "6\n",
      "7\n"
     ]
    }
   ],
   "source": [
    "for i in range(100):\n",
    "    print(i)\n",
    "    if i>=7:\n",
    "        break"
   ]
  },
  {
   "cell_type": "markdown",
   "metadata": {
    "lc_cell_meme": {
     "current": "9d9b70a6-52cd-11e8-b68d-02420aff0006",
     "next": "9d9b7132-52cd-11e8-b68d-02420aff0006",
     "previous": "9d9b701a-52cd-11e8-b68d-02420aff0006"
    }
   },
   "source": [
    "## Continue"
   ]
  },
  {
   "cell_type": "markdown",
   "metadata": {
    "lc_cell_meme": {
     "current": "9d9b7132-52cd-11e8-b68d-02420aff0006",
     "next": "9d9b71b4-52cd-11e8-b68d-02420aff0006",
     "previous": "9d9b70a6-52cd-11e8-b68d-02420aff0006"
    }
   },
   "source": [
    "This continues the rest of the loop. Sometimes when a condition is satisfied there are chances of the loop getting terminated. This can be avoided using continue statement. "
   ]
  },
  {
   "cell_type": "code",
   "execution_count": 10,
   "metadata": {
    "lc_cell_meme": {
     "current": "9d9b71b4-52cd-11e8-b68d-02420aff0006",
     "next": "9d9b7240-52cd-11e8-b68d-02420aff0006",
     "previous": "9d9b7132-52cd-11e8-b68d-02420aff0006"
    }
   },
   "outputs": [
    {
     "name": "stdout",
     "output_type": "stream",
     "text": [
      "0\n",
      "1\n",
      "2\n",
      "3\n",
      "4\n",
      "The end.\n",
      "The end.\n",
      "The end.\n",
      "The end.\n",
      "The end.\n"
     ]
    }
   ],
   "source": [
    "for i in range(10):\n",
    "    if i>4:\n",
    "        print(\"The end.\")\n",
    "        continue\n",
    "    elif i<7:\n",
    "        print(i)"
   ]
  },
  {
   "cell_type": "markdown",
   "metadata": {
    "lc_cell_meme": {
     "current": "9d9b7240-52cd-11e8-b68d-02420aff0006",
     "next": "9d9b7344-52cd-11e8-b68d-02420aff0006",
     "previous": "9d9b71b4-52cd-11e8-b68d-02420aff0006"
    }
   },
   "source": [
    "## リスト内包表記"
   ]
  },
  {
   "cell_type": "markdown",
   "metadata": {
    "lc_cell_meme": {
     "current": "9d9b7344-52cd-11e8-b68d-02420aff0006",
     "next": "9d9b73da-52cd-11e8-b68d-02420aff0006",
     "previous": "9d9b7240-52cd-11e8-b68d-02420aff0006"
    }
   },
   "source": [
    "Python makes it simple to generate a required list with a single line of code using list comprehensions. For example If i need to generate multiples of say 27 I write the code using for loop as,"
   ]
  },
  {
   "cell_type": "code",
   "execution_count": 11,
   "metadata": {
    "lc_cell_meme": {
     "current": "9d9b73da-52cd-11e8-b68d-02420aff0006",
     "next": "9d9b7470-52cd-11e8-b68d-02420aff0006",
     "previous": "9d9b7344-52cd-11e8-b68d-02420aff0006"
    }
   },
   "outputs": [
    {
     "name": "stdout",
     "output_type": "stream",
     "text": [
      "[27, 54, 81, 108, 135, 162, 189, 216, 243, 270]\n"
     ]
    }
   ],
   "source": [
    "res = []\n",
    "for i in range(1,11):\n",
    "    x = 27*i\n",
    "    res.append(x)\n",
    "print(res)"
   ]
  },
  {
   "cell_type": "markdown",
   "metadata": {
    "lc_cell_meme": {
     "current": "9d9b7470-52cd-11e8-b68d-02420aff0006",
     "next": "9d9b74fc-52cd-11e8-b68d-02420aff0006",
     "previous": "9d9b73da-52cd-11e8-b68d-02420aff0006"
    }
   },
   "source": [
    "Since you are generating another list altogether and that is what is required, List comprehensions is a more efficient way to solve this problem."
   ]
  },
  {
   "cell_type": "code",
   "execution_count": 12,
   "metadata": {
    "lc_cell_meme": {
     "current": "9d9b74fc-52cd-11e8-b68d-02420aff0006",
     "next": "9d9b7600-52cd-11e8-b68d-02420aff0006",
     "previous": "9d9b7470-52cd-11e8-b68d-02420aff0006"
    }
   },
   "outputs": [
    {
     "data": {
      "text/plain": [
       "[27, 54, 81, 108, 135, 162, 189, 216, 243, 270]"
      ]
     },
     "execution_count": 12,
     "metadata": {},
     "output_type": "execute_result"
    }
   ],
   "source": [
    "[27*x for x in range(1,11)]"
   ]
  },
  {
   "cell_type": "markdown",
   "metadata": {
    "lc_cell_meme": {
     "current": "9d9b7600-52cd-11e8-b68d-02420aff0006",
     "next": "9d9b768c-52cd-11e8-b68d-02420aff0006",
     "previous": "9d9b74fc-52cd-11e8-b68d-02420aff0006"
    }
   },
   "source": [
    "That's it!. Only remember to enclose it in square brackets"
   ]
  },
  {
   "cell_type": "markdown",
   "metadata": {
    "lc_cell_meme": {
     "current": "9d9b768c-52cd-11e8-b68d-02420aff0006",
     "next": "9d9b770e-52cd-11e8-b68d-02420aff0006",
     "previous": "9d9b7600-52cd-11e8-b68d-02420aff0006"
    }
   },
   "source": [
    "Understanding the code, The first bit of the code is always the algorithm and then leave a space and then write the necessary loop. But you might be wondering can nested loops be extended to list comprehensions? Yes you can."
   ]
  },
  {
   "cell_type": "code",
   "execution_count": 13,
   "metadata": {
    "lc_cell_meme": {
     "current": "9d9b770e-52cd-11e8-b68d-02420aff0006",
     "next": "9d9b779a-52cd-11e8-b68d-02420aff0006",
     "previous": "9d9b768c-52cd-11e8-b68d-02420aff0006"
    }
   },
   "outputs": [
    {
     "data": {
      "text/plain": [
       "[27, 54, 81, 108, 135, 162, 189, 216, 243, 270]"
      ]
     },
     "execution_count": 13,
     "metadata": {},
     "output_type": "execute_result"
    }
   ],
   "source": [
    "[27*x for x in range(1,20) if x<=10]"
   ]
  },
  {
   "cell_type": "markdown",
   "metadata": {
    "lc_cell_meme": {
     "current": "9d9b779a-52cd-11e8-b68d-02420aff0006",
     "next": "9d9b781c-52cd-11e8-b68d-02420aff0006",
     "previous": "9d9b770e-52cd-11e8-b68d-02420aff0006"
    }
   },
   "source": [
    "Let me add one more loop to make you understand better, "
   ]
  },
  {
   "cell_type": "code",
   "execution_count": 14,
   "metadata": {
    "lc_cell_meme": {
     "current": "9d9b781c-52cd-11e8-b68d-02420aff0006",
     "history": [
      {
       "current": "9d9b781c-52cd-11e8-b68d-02420aff0006",
       "next": null,
       "previous": "9d9b779a-52cd-11e8-b68d-02420aff0006"
      }
     ],
     "next": null,
     "previous": "9d9b779a-52cd-11e8-b68d-02420aff0006"
    }
   },
   "outputs": [
    {
     "data": {
      "text/plain": [
       "[27, 54, 81, 108, 135, 162, 189, 216, 243, 270]"
      ]
     },
     "execution_count": 14,
     "metadata": {},
     "output_type": "execute_result"
    }
   ],
   "source": [
    "[27*z for i in range(50) if i==27 for z in range(1,11)]"
   ]
  },
  {
   "cell_type": "code",
   "execution_count": null,
   "metadata": {
    "lc_cell_meme": {}
   },
   "outputs": [],
   "source": []
  }
 ],
 "metadata": {
  "kernelspec": {
   "display_name": "Python 3",
   "language": "python",
   "name": "python3"
  },
  "language_info": {
   "codemirror_mode": {
    "name": "ipython",
    "version": 3
   },
   "file_extension": ".py",
   "mimetype": "text/x-python",
   "name": "python",
   "nbconvert_exporter": "python",
   "pygments_lexer": "ipython3",
   "version": "3.5.5"
  },
  "lc_notebook_meme": {
   "current": "9d9b6034-52cd-11e8-b68d-02420aff0006",
   "lc_server_signature": {
    "current": {
     "notebook_dir": "/home/satoshiyazawa4fc701",
     "notebook_path": "/Python-Lectures-master",
     "server_url": "https://nb08.ecloud.nii.ac.jp/user/satoshiyazawa4fc701/",
     "signature_id": "2a78ec32-397a-11e8-b68d-02420aff0006"
    },
    "history": []
   }
  },
  "toc": {
   "base_numbering": 1,
   "nav_menu": {},
   "number_sections": true,
   "sideBar": true,
   "skip_h1_title": false,
   "title_cell": "Table of Contents",
   "title_sidebar": "Contents",
   "toc_cell": false,
   "toc_position": {},
   "toc_section_display": true,
   "toc_window_display": false
  }
 },
 "nbformat": 4,
 "nbformat_minor": 1
}
