{
 "cells": [
  {
   "cell_type": "markdown",
   "metadata": {
    "lc_cell_meme": {
     "current": "5e2cebf4-52b7-11e8-b68d-02420aff0006",
     "next": "5e2cecb2-52b7-11e8-b68d-02420aff0006",
     "previous": null
    }
   },
   "source": [
    "この講義のJupyter Notebookは以下のリポジトリよりダウンロードできます: https://github.com/yacchin1205/Python-Lectures"
   ]
  },
  {
   "cell_type": "markdown",
   "metadata": {
    "lc_cell_meme": {
     "current": "5e2cecb2-52b7-11e8-b68d-02420aff0006",
     "next": "5e2ced48-52b7-11e8-b68d-02420aff0006",
     "previous": "5e2cebf4-52b7-11e8-b68d-02420aff0006"
    }
   },
   "source": [
    "# The Zen Of Python"
   ]
  },
  {
   "cell_type": "code",
   "execution_count": 1,
   "metadata": {
    "lc_cell_meme": {
     "current": "5e2ced48-52b7-11e8-b68d-02420aff0006",
     "next": "5e2cedde-52b7-11e8-b68d-02420aff0006",
     "previous": "5e2cecb2-52b7-11e8-b68d-02420aff0006"
    }
   },
   "outputs": [
    {
     "name": "stdout",
     "output_type": "stream",
     "text": [
      "The Zen of Python, by Tim Peters\n",
      "\n",
      "Beautiful is better than ugly.\n",
      "Explicit is better than implicit.\n",
      "Simple is better than complex.\n",
      "Complex is better than complicated.\n",
      "Flat is better than nested.\n",
      "Sparse is better than dense.\n",
      "Readability counts.\n",
      "Special cases aren't special enough to break the rules.\n",
      "Although practicality beats purity.\n",
      "Errors should never pass silently.\n",
      "Unless explicitly silenced.\n",
      "In the face of ambiguity, refuse the temptation to guess.\n",
      "There should be one-- and preferably only one --obvious way to do it.\n",
      "Although that way may not be obvious at first unless you're Dutch.\n",
      "Now is better than never.\n",
      "Although never is often better than *right* now.\n",
      "If the implementation is hard to explain, it's a bad idea.\n",
      "If the implementation is easy to explain, it may be a good idea.\n",
      "Namespaces are one honking great idea -- let's do more of those!\n"
     ]
    }
   ],
   "source": [
    "import this"
   ]
  },
  {
   "cell_type": "markdown",
   "metadata": {
    "lc_cell_meme": {
     "current": "5e2cedde-52b7-11e8-b68d-02420aff0006",
     "next": "5e2cee6a-52b7-11e8-b68d-02420aff0006",
     "previous": "5e2ced48-52b7-11e8-b68d-02420aff0006"
    }
   },
   "source": [
    "# 変数"
   ]
  },
  {
   "cell_type": "markdown",
   "metadata": {
    "lc_cell_meme": {
     "current": "5e2cee6a-52b7-11e8-b68d-02420aff0006",
     "next": "5e2ceeec-52b7-11e8-b68d-02420aff0006",
     "previous": "5e2cedde-52b7-11e8-b68d-02420aff0006"
    }
   },
   "source": [
    "値や他の何かを指し示す名前のことを変数と呼びます。Pythonでは、変数と値を以下のように宣言、割り当てることができます。"
   ]
  },
  {
   "cell_type": "code",
   "execution_count": 2,
   "metadata": {
    "lc_cell_meme": {
     "current": "5e2ceeec-52b7-11e8-b68d-02420aff0006",
     "next": "5e2cef78-52b7-11e8-b68d-02420aff0006",
     "previous": "5e2cee6a-52b7-11e8-b68d-02420aff0006"
    }
   },
   "outputs": [],
   "source": [
    "x = 2\n",
    "y = 5\n",
    "xy = 'Hey'"
   ]
  },
  {
   "cell_type": "code",
   "execution_count": 3,
   "metadata": {
    "lc_cell_meme": {
     "current": "5e2cef78-52b7-11e8-b68d-02420aff0006",
     "next": "5e2ceffa-52b7-11e8-b68d-02420aff0006",
     "previous": "5e2ceeec-52b7-11e8-b68d-02420aff0006"
    }
   },
   "outputs": [
    {
     "name": "stdout",
     "output_type": "stream",
     "text": [
      "7 Hey\n"
     ]
    }
   ],
   "source": [
    "print(x+y, xy)"
   ]
  },
  {
   "cell_type": "markdown",
   "metadata": {
    "lc_cell_meme": {
     "current": "5e2ceffa-52b7-11e8-b68d-02420aff0006",
     "next": "5e2cf086-52b7-11e8-b68d-02420aff0006",
     "previous": "5e2cef78-52b7-11e8-b68d-02420aff0006"
    }
   },
   "source": [
    "複数の変数に同一の値を割り当てることもできます。"
   ]
  },
  {
   "cell_type": "code",
   "execution_count": 4,
   "metadata": {
    "lc_cell_meme": {
     "current": "5e2cf086-52b7-11e8-b68d-02420aff0006",
     "next": "5e2cf108-52b7-11e8-b68d-02420aff0006",
     "previous": "5e2ceffa-52b7-11e8-b68d-02420aff0006"
    }
   },
   "outputs": [],
   "source": [
    "x = y = 1"
   ]
  },
  {
   "cell_type": "code",
   "execution_count": 5,
   "metadata": {
    "lc_cell_meme": {
     "current": "5e2cf108-52b7-11e8-b68d-02420aff0006",
     "next": "5e2cf18a-52b7-11e8-b68d-02420aff0006",
     "previous": "5e2cf086-52b7-11e8-b68d-02420aff0006"
    }
   },
   "outputs": [
    {
     "name": "stdout",
     "output_type": "stream",
     "text": [
      "1 1\n"
     ]
    }
   ],
   "source": [
    "print(x,y)"
   ]
  },
  {
   "cell_type": "markdown",
   "metadata": {
    "lc_cell_meme": {
     "current": "5e2cf18a-52b7-11e8-b68d-02420aff0006",
     "next": "5e2cf20c-52b7-11e8-b68d-02420aff0006",
     "previous": "5e2cf108-52b7-11e8-b68d-02420aff0006"
    }
   },
   "source": [
    "# 演算子"
   ]
  },
  {
   "cell_type": "markdown",
   "metadata": {
    "lc_cell_meme": {
     "current": "5e2cf20c-52b7-11e8-b68d-02420aff0006",
     "next": "5e2cf28e-52b7-11e8-b68d-02420aff0006",
     "previous": "5e2cf18a-52b7-11e8-b68d-02420aff0006"
    }
   },
   "source": [
    "# 算術演算子"
   ]
  },
  {
   "cell_type": "markdown",
   "metadata": {
    "lc_cell_meme": {
     "current": "5e2cf28e-52b7-11e8-b68d-02420aff0006",
     "next": "5e2cf310-52b7-11e8-b68d-02420aff0006",
     "previous": "5e2cf20c-52b7-11e8-b68d-02420aff0006"
    }
   },
   "source": [
    "| 演算子 | 計算結果 |\n",
    "|----|---|\n",
    "| +  | 加算(足す) |\n",
    "| -  | 減算(引く) |\n",
    "| /  | 除算(割る) |\n",
    "| %  | 剰余(余り) |\n",
    "| *  | 乗算(掛ける) |\n",
    "| //  | 切り捨て除算 |\n",
    "| **  | べき乗 |"
   ]
  },
  {
   "cell_type": "code",
   "execution_count": 6,
   "metadata": {
    "lc_cell_meme": {
     "current": "5e2cf310-52b7-11e8-b68d-02420aff0006",
     "next": "5e2cf392-52b7-11e8-b68d-02420aff0006",
     "previous": "5e2cf28e-52b7-11e8-b68d-02420aff0006"
    }
   },
   "outputs": [
    {
     "data": {
      "text/plain": [
       "3"
      ]
     },
     "execution_count": 6,
     "metadata": {},
     "output_type": "execute_result"
    }
   ],
   "source": [
    "1+2"
   ]
  },
  {
   "cell_type": "code",
   "execution_count": 7,
   "metadata": {
    "lc_cell_meme": {
     "current": "5e2cf392-52b7-11e8-b68d-02420aff0006",
     "next": "5e2cf41e-52b7-11e8-b68d-02420aff0006",
     "previous": "5e2cf310-52b7-11e8-b68d-02420aff0006"
    }
   },
   "outputs": [
    {
     "data": {
      "text/plain": [
       "1"
      ]
     },
     "execution_count": 7,
     "metadata": {},
     "output_type": "execute_result"
    }
   ],
   "source": [
    "2-1"
   ]
  },
  {
   "cell_type": "code",
   "execution_count": 8,
   "metadata": {
    "lc_cell_meme": {
     "current": "5e2cf41e-52b7-11e8-b68d-02420aff0006",
     "next": "5e2cf518-52b7-11e8-b68d-02420aff0006",
     "previous": "5e2cf392-52b7-11e8-b68d-02420aff0006"
    }
   },
   "outputs": [
    {
     "data": {
      "text/plain": [
       "2"
      ]
     },
     "execution_count": 8,
     "metadata": {},
     "output_type": "execute_result"
    }
   ],
   "source": [
    "1*2"
   ]
  },
  {
   "cell_type": "code",
   "execution_count": 9,
   "metadata": {
    "lc_cell_meme": {
     "current": "5e2cf518-52b7-11e8-b68d-02420aff0006",
     "history": [
      {
       "current": "5e2cf518-52b7-11e8-b68d-02420aff0006",
       "next": "5e2cf626-52b7-11e8-b68d-02420aff0006",
       "previous": "5e2cf41e-52b7-11e8-b68d-02420aff0006"
      }
     ],
     "next": "5e2cf752-52b7-11e8-b68d-02420aff0006",
     "previous": "5e2cf41e-52b7-11e8-b68d-02420aff0006"
    }
   },
   "outputs": [
    {
     "data": {
      "text/plain": [
       "0.5"
      ]
     },
     "execution_count": 9,
     "metadata": {},
     "output_type": "execute_result"
    }
   ],
   "source": [
    "1/2"
   ]
  },
  {
   "cell_type": "code",
   "execution_count": 10,
   "metadata": {
    "lc_cell_meme": {
     "current": "5e2cf752-52b7-11e8-b68d-02420aff0006",
     "history": [
      {
       "current": "5e2cf752-52b7-11e8-b68d-02420aff0006",
       "next": "5e2cf7de-52b7-11e8-b68d-02420aff0006",
       "previous": "5e2cf6bc-52b7-11e8-b68d-02420aff0006"
      }
     ],
     "next": "5e2cf7de-52b7-11e8-b68d-02420aff0006",
     "previous": "5e2cf518-52b7-11e8-b68d-02420aff0006"
    }
   },
   "outputs": [
    {
     "data": {
      "text/plain": [
       "5"
      ]
     },
     "execution_count": 10,
     "metadata": {},
     "output_type": "execute_result"
    }
   ],
   "source": [
    "15%10"
   ]
  },
  {
   "cell_type": "markdown",
   "metadata": {
    "lc_cell_meme": {
     "current": "5e2cf7de-52b7-11e8-b68d-02420aff0006",
     "next": "5e2cf964-52b7-11e8-b68d-02420aff0006",
     "previous": "5e2cf752-52b7-11e8-b68d-02420aff0006"
    }
   },
   "source": [
    "切り捨て除算(Floor division)をすると、値を除算した後、その値以下の最大の整数を得られます。"
   ]
  },
  {
   "cell_type": "code",
   "execution_count": 11,
   "metadata": {
    "lc_cell_meme": {
     "current": "5e2cf964-52b7-11e8-b68d-02420aff0006",
     "next": "5e2cf9f0-52b7-11e8-b68d-02420aff0006",
     "previous": "5e2cf7de-52b7-11e8-b68d-02420aff0006"
    }
   },
   "outputs": [
    {
     "data": {
      "text/plain": [
       "1.0"
      ]
     },
     "execution_count": 11,
     "metadata": {},
     "output_type": "execute_result"
    }
   ],
   "source": [
    "2.8//2.0"
   ]
  },
  {
   "cell_type": "markdown",
   "metadata": {
    "lc_cell_meme": {
     "current": "5e2cf9f0-52b7-11e8-b68d-02420aff0006",
     "next": "5e2cfa68-52b7-11e8-b68d-02420aff0006",
     "previous": "5e2cf964-52b7-11e8-b68d-02420aff0006"
    }
   },
   "source": [
    "## 比較演算子"
   ]
  },
  {
   "cell_type": "markdown",
   "metadata": {
    "lc_cell_meme": {
     "current": "5e2cfa68-52b7-11e8-b68d-02420aff0006",
     "next": "5e2cfaea-52b7-11e8-b68d-02420aff0006",
     "previous": "5e2cf9f0-52b7-11e8-b68d-02420aff0006"
    }
   },
   "source": [
    "| 演算子 | 計算結果 |\n",
    "|----|---|\n",
    "| == | 値が一致していれば真(True) |\n",
    "| !=  | 値が不一致であれば真(True) |\n",
    "| < | よりも小さい |\n",
    "| > | よりも大きい |\n",
    "| <=  | 以下 |\n",
    "| >=  | 以上 |"
   ]
  },
  {
   "cell_type": "code",
   "execution_count": 12,
   "metadata": {
    "lc_cell_meme": {
     "current": "5e2cfaea-52b7-11e8-b68d-02420aff0006",
     "next": "5e2cfb76-52b7-11e8-b68d-02420aff0006",
     "previous": "5e2cfa68-52b7-11e8-b68d-02420aff0006"
    }
   },
   "outputs": [],
   "source": [
    "z = 1"
   ]
  },
  {
   "cell_type": "code",
   "execution_count": 13,
   "metadata": {
    "lc_cell_meme": {
     "current": "5e2cfb76-52b7-11e8-b68d-02420aff0006",
     "next": "5e2cfbf8-52b7-11e8-b68d-02420aff0006",
     "previous": "5e2cfaea-52b7-11e8-b68d-02420aff0006"
    }
   },
   "outputs": [
    {
     "data": {
      "text/plain": [
       "True"
      ]
     },
     "execution_count": 13,
     "metadata": {},
     "output_type": "execute_result"
    }
   ],
   "source": [
    "z == 1"
   ]
  },
  {
   "cell_type": "code",
   "execution_count": 14,
   "metadata": {
    "lc_cell_meme": {
     "current": "5e2cfbf8-52b7-11e8-b68d-02420aff0006",
     "next": "5e2cfc7a-52b7-11e8-b68d-02420aff0006",
     "previous": "5e2cfb76-52b7-11e8-b68d-02420aff0006"
    }
   },
   "outputs": [
    {
     "data": {
      "text/plain": [
       "False"
      ]
     },
     "execution_count": 14,
     "metadata": {},
     "output_type": "execute_result"
    }
   ],
   "source": [
    "z > 1"
   ]
  },
  {
   "cell_type": "markdown",
   "metadata": {
    "lc_cell_meme": {
     "current": "5e2cfc7a-52b7-11e8-b68d-02420aff0006",
     "next": "5e2cfcfc-52b7-11e8-b68d-02420aff0006",
     "previous": "5e2cfbf8-52b7-11e8-b68d-02420aff0006"
    }
   },
   "source": [
    "## ビット演算子"
   ]
  },
  {
   "cell_type": "markdown",
   "metadata": {
    "lc_cell_meme": {
     "current": "5e2cfcfc-52b7-11e8-b68d-02420aff0006",
     "next": "5e2cfd7e-52b7-11e8-b68d-02420aff0006",
     "previous": "5e2cfc7a-52b7-11e8-b68d-02420aff0006"
    }
   },
   "source": [
    "| 演算子 | 計算結果 |\n",
    "|----|---|\n",
    "| &  | 論理積(AND) |\n",
    "| l  | 論理和(OR) |\n",
    "| ^  | 排他的論理和(XOR) |\n",
    "| ~  | 反転(NOT) |\n",
    "| >>  | 右シフト |\n",
    "| <<  | 左シフト |"
   ]
  },
  {
   "cell_type": "code",
   "execution_count": 15,
   "metadata": {
    "lc_cell_meme": {
     "current": "5e2cfd7e-52b7-11e8-b68d-02420aff0006",
     "next": "5e2cfe0a-52b7-11e8-b68d-02420aff0006",
     "previous": "5e2cfcfc-52b7-11e8-b68d-02420aff0006"
    }
   },
   "outputs": [],
   "source": [
    "a = 2 #10\n",
    "b = 3 #11"
   ]
  },
  {
   "cell_type": "code",
   "execution_count": 16,
   "metadata": {
    "lc_cell_meme": {
     "current": "5e2cfe0a-52b7-11e8-b68d-02420aff0006",
     "next": "5e2cfe8c-52b7-11e8-b68d-02420aff0006",
     "previous": "5e2cfd7e-52b7-11e8-b68d-02420aff0006"
    }
   },
   "outputs": [
    {
     "name": "stdout",
     "output_type": "stream",
     "text": [
      "2\n",
      "0b10\n"
     ]
    }
   ],
   "source": [
    "print(a & b)\n",
    "print(bin(a&b))"
   ]
  },
  {
   "cell_type": "code",
   "execution_count": 17,
   "metadata": {
    "lc_cell_meme": {
     "current": "5e2cfe8c-52b7-11e8-b68d-02420aff0006",
     "next": "5e2cff18-52b7-11e8-b68d-02420aff0006",
     "previous": "5e2cfe0a-52b7-11e8-b68d-02420aff0006"
    }
   },
   "outputs": [
    {
     "data": {
      "text/plain": [
       "2"
      ]
     },
     "execution_count": 17,
     "metadata": {},
     "output_type": "execute_result"
    }
   ],
   "source": [
    "5 >> 1"
   ]
  },
  {
   "cell_type": "markdown",
   "metadata": {
    "lc_cell_meme": {
     "current": "5e2cff18-52b7-11e8-b68d-02420aff0006",
     "next": "5e2cff9a-52b7-11e8-b68d-02420aff0006",
     "previous": "5e2cfe8c-52b7-11e8-b68d-02420aff0006"
    }
   },
   "source": [
    "0000 0101 -> 5 \n",
    "\n",
    "2進数で表された数値を1つ右にずらし、左側をゼロ埋めしています。\n",
    "\n",
    "0000 0010 -> 2"
   ]
  },
  {
   "cell_type": "code",
   "execution_count": 18,
   "metadata": {
    "lc_cell_meme": {
     "current": "5e2cff9a-52b7-11e8-b68d-02420aff0006",
     "next": "5e2d0012-52b7-11e8-b68d-02420aff0006",
     "previous": "5e2cff18-52b7-11e8-b68d-02420aff0006"
    }
   },
   "outputs": [
    {
     "data": {
      "text/plain": [
       "10"
      ]
     },
     "execution_count": 18,
     "metadata": {},
     "output_type": "execute_result"
    }
   ],
   "source": [
    "5 << 1"
   ]
  },
  {
   "cell_type": "markdown",
   "metadata": {
    "lc_cell_meme": {
     "current": "5e2d0012-52b7-11e8-b68d-02420aff0006",
     "next": "5e2d009e-52b7-11e8-b68d-02420aff0006",
     "previous": "5e2cff9a-52b7-11e8-b68d-02420aff0006"
    }
   },
   "source": [
    "0000 0101 -> 5 \n",
    "\n",
    "2進数で表された数値を1つ左にずらし、右側をゼロ埋めしています。\n",
    "\n",
    "0000 1010 -> 10"
   ]
  },
  {
   "cell_type": "markdown",
   "metadata": {
    "lc_cell_meme": {
     "current": "5e2d009e-52b7-11e8-b68d-02420aff0006",
     "next": "5e2d0120-52b7-11e8-b68d-02420aff0006",
     "previous": "5e2d0012-52b7-11e8-b68d-02420aff0006"
    }
   },
   "source": [
    "# 組み込み関数"
   ]
  },
  {
   "cell_type": "markdown",
   "metadata": {
    "lc_cell_meme": {
     "current": "5e2d0120-52b7-11e8-b68d-02420aff0006",
     "next": "5e2d01a2-52b7-11e8-b68d-02420aff0006",
     "previous": "5e2d009e-52b7-11e8-b68d-02420aff0006"
    }
   },
   "source": [
    "Pythonでは様々な組み込み関数が用意されています。"
   ]
  },
  {
   "cell_type": "markdown",
   "metadata": {
    "lc_cell_meme": {
     "current": "5e2d01a2-52b7-11e8-b68d-02420aff0006",
     "next": "5e2d0224-52b7-11e8-b68d-02420aff0006",
     "previous": "5e2d0120-52b7-11e8-b68d-02420aff0006"
    }
   },
   "source": [
    "## 数値の表現"
   ]
  },
  {
   "cell_type": "markdown",
   "metadata": {
    "lc_cell_meme": {
     "current": "5e2d0224-52b7-11e8-b68d-02420aff0006",
     "next": "5e2d02a6-52b7-11e8-b68d-02420aff0006",
     "previous": "5e2d01a2-52b7-11e8-b68d-02420aff0006"
    }
   },
   "source": [
    "値の先頭に **0x** を付加したり、組み込み関数 **hex( )** を用いることで、16進数で数値を定義したり、10進数の数値を16進数に変換することができます。\n",
    "8進数の場合には **0o** を付加するか組み込み関数 **oct( )** を利用することができます。"
   ]
  },
  {
   "cell_type": "code",
   "execution_count": 19,
   "metadata": {
    "lc_cell_meme": {
     "current": "5e2d02a6-52b7-11e8-b68d-02420aff0006",
     "next": "5e2d0328-52b7-11e8-b68d-02420aff0006",
     "previous": "5e2d0224-52b7-11e8-b68d-02420aff0006"
    }
   },
   "outputs": [
    {
     "data": {
      "text/plain": [
       "'0xaa'"
      ]
     },
     "execution_count": 19,
     "metadata": {},
     "output_type": "execute_result"
    }
   ],
   "source": [
    "hex(170)"
   ]
  },
  {
   "cell_type": "code",
   "execution_count": 20,
   "metadata": {
    "lc_cell_meme": {
     "current": "5e2d0328-52b7-11e8-b68d-02420aff0006",
     "next": "5e2d03a0-52b7-11e8-b68d-02420aff0006",
     "previous": "5e2d02a6-52b7-11e8-b68d-02420aff0006"
    }
   },
   "outputs": [
    {
     "data": {
      "text/plain": [
       "170"
      ]
     },
     "execution_count": 20,
     "metadata": {},
     "output_type": "execute_result"
    }
   ],
   "source": [
    "0xAA"
   ]
  },
  {
   "cell_type": "code",
   "execution_count": 21,
   "metadata": {
    "lc_cell_meme": {
     "current": "5e2d03a0-52b7-11e8-b68d-02420aff0006",
     "next": "5e2d0422-52b7-11e8-b68d-02420aff0006",
     "previous": "5e2d0328-52b7-11e8-b68d-02420aff0006"
    }
   },
   "outputs": [
    {
     "data": {
      "text/plain": [
       "'0o10'"
      ]
     },
     "execution_count": 21,
     "metadata": {},
     "output_type": "execute_result"
    }
   ],
   "source": [
    "oct(8)"
   ]
  },
  {
   "cell_type": "code",
   "execution_count": 22,
   "metadata": {
    "lc_cell_meme": {
     "current": "5e2d0422-52b7-11e8-b68d-02420aff0006",
     "next": "5e2d04a4-52b7-11e8-b68d-02420aff0006",
     "previous": "5e2d03a0-52b7-11e8-b68d-02420aff0006"
    }
   },
   "outputs": [
    {
     "data": {
      "text/plain": [
       "8"
      ]
     },
     "execution_count": 22,
     "metadata": {},
     "output_type": "execute_result"
    }
   ],
   "source": [
    "0o10"
   ]
  },
  {
   "cell_type": "markdown",
   "metadata": {
    "lc_cell_meme": {
     "current": "5e2d04a4-52b7-11e8-b68d-02420aff0006",
     "next": "5e2d0526-52b7-11e8-b68d-02420aff0006",
     "previous": "5e2d0422-52b7-11e8-b68d-02420aff0006"
    }
   },
   "source": [
    "組み込み関数 **int( )** は2つの値を与えることができます。1つめの値は数値、2つめは基数(2進数であれば2, 10進数であれば10)です。 Note that input number in the different number system should be of string type."
   ]
  },
  {
   "cell_type": "code",
   "execution_count": 23,
   "metadata": {
    "lc_cell_meme": {
     "current": "5e2d0526-52b7-11e8-b68d-02420aff0006",
     "next": "5e2d05a8-52b7-11e8-b68d-02420aff0006",
     "previous": "5e2d04a4-52b7-11e8-b68d-02420aff0006"
    }
   },
   "outputs": [
    {
     "name": "stdout",
     "output_type": "stream",
     "text": [
      "8\n",
      "170\n",
      "10\n"
     ]
    }
   ],
   "source": [
    "print(int('0o10',8))\n",
    "print(int('0xaa',16))\n",
    "print(int('1010',2))"
   ]
  },
  {
   "cell_type": "markdown",
   "metadata": {
    "lc_cell_meme": {
     "current": "5e2d05a8-52b7-11e8-b68d-02420aff0006",
     "next": "5e2d062a-52b7-11e8-b68d-02420aff0006",
     "previous": "5e2d0526-52b7-11e8-b68d-02420aff0006"
    }
   },
   "source": [
    "**int( )** can also be used to get only the integer value of a float number or can be used to convert a number which is of type string to integer format. Similarly, the function **str( )** can be used to convert the integer back to string format"
   ]
  },
  {
   "cell_type": "code",
   "execution_count": 24,
   "metadata": {
    "lc_cell_meme": {
     "current": "5e2d062a-52b7-11e8-b68d-02420aff0006",
     "next": "5e2d06ac-52b7-11e8-b68d-02420aff0006",
     "previous": "5e2d05a8-52b7-11e8-b68d-02420aff0006"
    }
   },
   "outputs": [
    {
     "name": "stdout",
     "output_type": "stream",
     "text": [
      "7\n",
      "7\n"
     ]
    }
   ],
   "source": [
    "print(int(7.7))\n",
    "print(int('7'))"
   ]
  },
  {
   "cell_type": "markdown",
   "metadata": {
    "lc_cell_meme": {
     "current": "5e2d06ac-52b7-11e8-b68d-02420aff0006",
     "next": "5e2d072e-52b7-11e8-b68d-02420aff0006",
     "previous": "5e2d062a-52b7-11e8-b68d-02420aff0006"
    }
   },
   "source": [
    "Also note that function **bin( )** is used for binary and **float( )** for decimal/float values. **chr( )** is used for converting ASCII to its alphabet equivalent, **ord( )** is used for the other way round."
   ]
  },
  {
   "cell_type": "code",
   "execution_count": 25,
   "metadata": {
    "lc_cell_meme": {
     "current": "5e2d072e-52b7-11e8-b68d-02420aff0006",
     "next": "5e2d07ba-52b7-11e8-b68d-02420aff0006",
     "previous": "5e2d06ac-52b7-11e8-b68d-02420aff0006"
    }
   },
   "outputs": [
    {
     "data": {
      "text/plain": [
       "'b'"
      ]
     },
     "execution_count": 25,
     "metadata": {},
     "output_type": "execute_result"
    }
   ],
   "source": [
    "chr(98)"
   ]
  },
  {
   "cell_type": "code",
   "execution_count": 26,
   "metadata": {
    "lc_cell_meme": {
     "current": "5e2d07ba-52b7-11e8-b68d-02420aff0006",
     "next": "5e2d083c-52b7-11e8-b68d-02420aff0006",
     "previous": "5e2d072e-52b7-11e8-b68d-02420aff0006"
    }
   },
   "outputs": [
    {
     "data": {
      "text/plain": [
       "98"
      ]
     },
     "execution_count": 26,
     "metadata": {},
     "output_type": "execute_result"
    }
   ],
   "source": [
    "ord('b')"
   ]
  },
  {
   "cell_type": "markdown",
   "metadata": {
    "lc_cell_meme": {
     "current": "5e2d083c-52b7-11e8-b68d-02420aff0006",
     "next": "5e2d08c8-52b7-11e8-b68d-02420aff0006",
     "previous": "5e2d07ba-52b7-11e8-b68d-02420aff0006"
    }
   },
   "source": [
    "## 単純な算術関数"
   ]
  },
  {
   "cell_type": "markdown",
   "metadata": {
    "lc_cell_meme": {
     "current": "5e2d08c8-52b7-11e8-b68d-02420aff0006",
     "next": "5e2d094a-52b7-11e8-b68d-02420aff0006",
     "previous": "5e2d083c-52b7-11e8-b68d-02420aff0006"
    }
   },
   "source": [
    "**round( )** function rounds the input value to a specified number of places or to the nearest integer. "
   ]
  },
  {
   "cell_type": "code",
   "execution_count": 27,
   "metadata": {
    "lc_cell_meme": {
     "current": "5e2d094a-52b7-11e8-b68d-02420aff0006",
     "next": "5e2d09cc-52b7-11e8-b68d-02420aff0006",
     "previous": "5e2d08c8-52b7-11e8-b68d-02420aff0006"
    },
    "scrolled": false
   },
   "outputs": [
    {
     "name": "stdout",
     "output_type": "stream",
     "text": [
      "6\n",
      "4.56\n"
     ]
    }
   ],
   "source": [
    "print(round(5.6231))\n",
    "print(round(4.55892, 2))"
   ]
  },
  {
   "cell_type": "markdown",
   "metadata": {
    "lc_cell_meme": {
     "current": "5e2d09cc-52b7-11e8-b68d-02420aff0006",
     "next": "5e2d0a4e-52b7-11e8-b68d-02420aff0006",
     "previous": "5e2d094a-52b7-11e8-b68d-02420aff0006"
    }
   },
   "source": [
    "**complex( )** is used to define a complex number and **abs( )** outputs the absolute value of the same."
   ]
  },
  {
   "cell_type": "code",
   "execution_count": 28,
   "metadata": {
    "lc_cell_meme": {
     "current": "5e2d0a4e-52b7-11e8-b68d-02420aff0006",
     "next": "5e2d0ada-52b7-11e8-b68d-02420aff0006",
     "previous": "5e2d09cc-52b7-11e8-b68d-02420aff0006"
    }
   },
   "outputs": [
    {
     "name": "stdout",
     "output_type": "stream",
     "text": [
      "5.385164807134504\n"
     ]
    }
   ],
   "source": [
    "c =complex('5+2j')\n",
    "print(abs(c))"
   ]
  },
  {
   "cell_type": "markdown",
   "metadata": {
    "lc_cell_meme": {
     "current": "5e2d0ada-52b7-11e8-b68d-02420aff0006",
     "next": "5e2d0b5c-52b7-11e8-b68d-02420aff0006",
     "previous": "5e2d0a4e-52b7-11e8-b68d-02420aff0006"
    }
   },
   "source": [
    "**divmod(x,y)** outputs the quotient and the remainder in a tuple(you will be learning about it in the further chapters) in the format (quotient, remainder). "
   ]
  },
  {
   "cell_type": "code",
   "execution_count": 29,
   "metadata": {
    "lc_cell_meme": {
     "current": "5e2d0b5c-52b7-11e8-b68d-02420aff0006",
     "next": "5e2d0c9c-52b7-11e8-b68d-02420aff0006",
     "previous": "5e2d0ada-52b7-11e8-b68d-02420aff0006"
    }
   },
   "outputs": [
    {
     "data": {
      "text/plain": [
       "(4, 1)"
      ]
     },
     "execution_count": 29,
     "metadata": {},
     "output_type": "execute_result"
    }
   ],
   "source": [
    "divmod(9,2)"
   ]
  },
  {
   "cell_type": "markdown",
   "metadata": {
    "lc_cell_meme": {
     "current": "5e2d0c9c-52b7-11e8-b68d-02420aff0006",
     "next": "5e2d0d5a-52b7-11e8-b68d-02420aff0006",
     "previous": "5e2d0b5c-52b7-11e8-b68d-02420aff0006"
    }
   },
   "source": [
    "**isinstance( )** returns True, if the first argument is an instance of that class. Multiple classes can also be checked at once."
   ]
  },
  {
   "cell_type": "code",
   "execution_count": 30,
   "metadata": {
    "lc_cell_meme": {
     "current": "5e2d0d5a-52b7-11e8-b68d-02420aff0006",
     "history": [
      {
       "current": "5e2d0d5a-52b7-11e8-b68d-02420aff0006",
       "next": "5e2d0df0-52b7-11e8-b68d-02420aff0006",
       "previous": "5e2d0c9c-52b7-11e8-b68d-02420aff0006"
      }
     ],
     "next": "5e2d0fee-52b7-11e8-b68d-02420aff0006",
     "previous": "5e2d0c9c-52b7-11e8-b68d-02420aff0006"
    }
   },
   "outputs": [
    {
     "name": "stdout",
     "output_type": "stream",
     "text": [
      "True\n",
      "False\n",
      "True\n"
     ]
    }
   ],
   "source": [
    "print(isinstance(1, int))\n",
    "print(isinstance(1.0,int))\n",
    "print(isinstance(1.0,(int,float)))"
   ]
  },
  {
   "cell_type": "markdown",
   "metadata": {
    "lc_cell_meme": {
     "current": "5e2d0fee-52b7-11e8-b68d-02420aff0006",
     "history": [
      {
       "current": "5e2d0fee-52b7-11e8-b68d-02420aff0006",
       "next": "5e2d107a-52b7-11e8-b68d-02420aff0006",
       "previous": "5e2d0f08-52b7-11e8-b68d-02420aff0006"
      }
     ],
     "next": "5e2d107a-52b7-11e8-b68d-02420aff0006",
     "previous": "5e2d0d5a-52b7-11e8-b68d-02420aff0006"
    }
   },
   "source": [
    "**pow(x,y,z)** can be used to find the power $x^y$ also the mod of the resulting value with the third specified number can be found i.e. : ($x^y$ % z)."
   ]
  },
  {
   "cell_type": "code",
   "execution_count": 31,
   "metadata": {
    "lc_cell_meme": {
     "current": "5e2d107a-52b7-11e8-b68d-02420aff0006",
     "next": "5e2d10fc-52b7-11e8-b68d-02420aff0006",
     "previous": "5e2d0fee-52b7-11e8-b68d-02420aff0006"
    }
   },
   "outputs": [
    {
     "name": "stdout",
     "output_type": "stream",
     "text": [
      "27\n",
      "2\n"
     ]
    }
   ],
   "source": [
    "print(pow(3,3))\n",
    "print(pow(3,3,5))"
   ]
  },
  {
   "cell_type": "markdown",
   "metadata": {
    "lc_cell_meme": {
     "current": "5e2d10fc-52b7-11e8-b68d-02420aff0006",
     "next": "5e2d117e-52b7-11e8-b68d-02420aff0006",
     "previous": "5e2d107a-52b7-11e8-b68d-02420aff0006"
    }
   },
   "source": [
    "**range( )** function outputs the integers of the specified range. It can also be used to generate a series by specifying the difference between the two numbers within a particular range. The elements are returned in a list (will be discussing in detail later.)"
   ]
  },
  {
   "cell_type": "code",
   "execution_count": 32,
   "metadata": {
    "lc_cell_meme": {
     "current": "5e2d117e-52b7-11e8-b68d-02420aff0006",
     "next": "5e2d120a-52b7-11e8-b68d-02420aff0006",
     "previous": "5e2d10fc-52b7-11e8-b68d-02420aff0006"
    }
   },
   "outputs": [
    {
     "name": "stdout",
     "output_type": "stream",
     "text": [
      "[0, 1, 2]\n",
      "[2, 3, 4, 5, 6, 7, 8]\n",
      "[2, 10, 18, 26]\n"
     ]
    }
   ],
   "source": [
    "print(list(range(3)))\n",
    "print(list(range(2,9)))\n",
    "print(list(range(2,27,8)))"
   ]
  },
  {
   "cell_type": "markdown",
   "metadata": {
    "lc_cell_meme": {
     "current": "5e2d120a-52b7-11e8-b68d-02420aff0006",
     "next": "5e2d128c-52b7-11e8-b68d-02420aff0006",
     "previous": "5e2d117e-52b7-11e8-b68d-02420aff0006"
    }
   },
   "source": [
    "## ユーザ入力の受け取り"
   ]
  },
  {
   "cell_type": "markdown",
   "metadata": {
    "lc_cell_meme": {
     "current": "5e2d128c-52b7-11e8-b68d-02420aff0006",
     "next": "5e2d130e-52b7-11e8-b68d-02420aff0006",
     "previous": "5e2d120a-52b7-11e8-b68d-02420aff0006"
    }
   },
   "source": [
    "**input( )** accepts input and stores it as a string. Hence, if the user inputs a integer, the code should convert the string to an integer and then proceed."
   ]
  },
  {
   "cell_type": "code",
   "execution_count": 33,
   "metadata": {
    "lc_cell_meme": {
     "current": "5e2d130e-52b7-11e8-b68d-02420aff0006",
     "next": "5e2d1386-52b7-11e8-b68d-02420aff0006",
     "previous": "5e2d128c-52b7-11e8-b68d-02420aff0006"
    }
   },
   "outputs": [
    {
     "name": "stdout",
     "output_type": "stream",
     "text": [
      "Type something here and it will be stored in variable abc \ttest input\n"
     ]
    }
   ],
   "source": [
    "abc = input(\"Type something here and it will be stored in variable abc \\t\")"
   ]
  },
  {
   "cell_type": "code",
   "execution_count": 34,
   "metadata": {
    "lc_cell_meme": {
     "current": "5e2d1386-52b7-11e8-b68d-02420aff0006",
     "history": [
      {
       "current": "5e2d1386-52b7-11e8-b68d-02420aff0006",
       "next": "5e2d1408-52b7-11e8-b68d-02420aff0006",
       "previous": "5e2d130e-52b7-11e8-b68d-02420aff0006"
      },
      {
       "current": "5e2d1386-52b7-11e8-b68d-02420aff0006",
       "next": "5e2d1408-52b7-11e8-b68d-02420aff0006",
       "previous": "5e2d130e-52b7-11e8-b68d-02420aff0006"
      }
     ],
     "next": "5e2d1408-52b7-11e8-b68d-02420aff0006",
     "previous": "5e2d130e-52b7-11e8-b68d-02420aff0006"
    }
   },
   "outputs": [
    {
     "name": "stdout",
     "output_type": "stream",
     "text": [
      "test input\n"
     ]
    }
   ],
   "source": [
    "print(abc)"
   ]
  },
  {
   "cell_type": "code",
   "execution_count": null,
   "metadata": {
    "lc_cell_meme": {}
   },
   "outputs": [],
   "source": []
  }
 ],
 "metadata": {
  "kernelspec": {
   "display_name": "Python 3",
   "language": "python",
   "name": "python3"
  },
  "language_info": {
   "codemirror_mode": {
    "name": "ipython",
    "version": 3
   },
   "file_extension": ".py",
   "mimetype": "text/x-python",
   "name": "python",
   "nbconvert_exporter": "python",
   "pygments_lexer": "ipython3",
   "version": "3.5.5"
  },
  "lc_notebook_meme": {
   "current": "5e2cea50-52b7-11e8-b68d-02420aff0006",
   "lc_server_signature": {
    "current": {
     "notebook_dir": "/home/satoshiyazawa4fc701",
     "notebook_path": "/Python-Lectures-master",
     "server_url": "https://nb08.ecloud.nii.ac.jp/user/satoshiyazawa4fc701/",
     "signature_id": "2a78ec32-397a-11e8-b68d-02420aff0006"
    },
    "history": []
   }
  },
  "toc": {
   "base_numbering": 1,
   "nav_menu": {},
   "number_sections": true,
   "sideBar": true,
   "skip_h1_title": false,
   "title_cell": "Table of Contents",
   "title_sidebar": "Contents",
   "toc_cell": false,
   "toc_position": {},
   "toc_section_display": true,
   "toc_window_display": false
  }
 },
 "nbformat": 4,
 "nbformat_minor": 1
}
